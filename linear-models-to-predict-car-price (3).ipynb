{
 "cells": [
  {
   "cell_type": "code",
   "execution_count": 1,
   "id": "supported-attempt",
   "metadata": {
    "_cell_guid": "b1076dfc-b9ad-4769-8c92-a6c4dae69d19",
    "_uuid": "8f2839f25d086af736a60e9eeb907d3b93b6e0e5",
    "execution": {
     "iopub.execute_input": "2021-05-30T15:12:41.967770Z",
     "iopub.status.busy": "2021-05-30T15:12:41.967130Z",
     "iopub.status.idle": "2021-05-30T15:12:41.986237Z",
     "shell.execute_reply": "2021-05-30T15:12:41.985561Z",
     "shell.execute_reply.started": "2021-05-30T15:02:11.692311Z"
    },
    "papermill": {
     "duration": 0.107186,
     "end_time": "2021-05-30T15:12:41.986415",
     "exception": false,
     "start_time": "2021-05-30T15:12:41.879229",
     "status": "completed"
    },
    "tags": []
   },
   "outputs": [
    {
     "name": "stdout",
     "output_type": "stream",
     "text": [
      "/kaggle/input/car-price-dataset/CarPrice.csv\n"
     ]
    }
   ],
   "source": [
    "# This Python 3 environment comes with many helpful analytics libraries installed\n",
    "# It is defined by the kaggle/python Docker image: https://github.com/kaggle/docker-python\n",
    "# For example, here's several helpful packages to load\n",
    "\n",
    "import numpy as np # linear algebra\n",
    "import pandas as pd # data processing, CSV file I/O (e.g. pd.read_csv)\n",
    "\n",
    "# Input data files are available in the read-only \"../input/\" directory\n",
    "# For example, running this (by clicking run or pressing Shift+Enter) will list all files under the input directory\n",
    "\n",
    "import os\n",
    "for dirname, _, filenames in os.walk('/kaggle/input'):\n",
    "    for filename in filenames:\n",
    "        print(os.path.join(dirname, filename))\n",
    "\n",
    "# You can write up to 20GB to the current directory (/kaggle/working/) that gets preserved as output when you create a version using \"Save & Run All\" \n",
    "# You can also write temporary files to /kaggle/temp/, but they won't be saved outside of the current session"
   ]
  },
  {
   "cell_type": "markdown",
   "id": "destroyed-guest",
   "metadata": {
    "papermill": {
     "duration": 0.072906,
     "end_time": "2021-05-30T15:12:42.134487",
     "exception": false,
     "start_time": "2021-05-30T15:12:42.061581",
     "status": "completed"
    },
    "tags": []
   },
   "source": [
    "Import necessary libraries for the project"
   ]
  },
  {
   "cell_type": "code",
   "execution_count": 2,
   "id": "fitted-thinking",
   "metadata": {
    "execution": {
     "iopub.execute_input": "2021-05-30T15:12:42.287930Z",
     "iopub.status.busy": "2021-05-30T15:12:42.287260Z",
     "iopub.status.idle": "2021-05-30T15:12:43.461344Z",
     "shell.execute_reply": "2021-05-30T15:12:43.461986Z",
     "shell.execute_reply.started": "2021-05-30T15:02:15.615087Z"
    },
    "papermill": {
     "duration": 1.25495,
     "end_time": "2021-05-30T15:12:43.462189",
     "exception": false,
     "start_time": "2021-05-30T15:12:42.207239",
     "status": "completed"
    },
    "tags": []
   },
   "outputs": [],
   "source": [
    "#matplotlib and seaborn are imported for visualization\n",
    "import matplotlib.pyplot as plt\n",
    "import seaborn as sns\n",
    "%matplotlib inline\n",
    "\n",
    "#splitting the dataset into train & test data\n",
    "from sklearn.model_selection import train_test_split\n",
    "\n",
    "#GridSearchCV is used for hyperparameter tuning in Lasso & Ridge\n",
    "from sklearn.model_selection import GridSearchCV\n",
    "\n",
    "#three linear models used in the project\n",
    "from sklearn.linear_model import LinearRegression\n",
    "from sklearn.linear_model import Ridge\n",
    "from sklearn.linear_model import Lasso\n",
    "\n",
    "#StandardScaler for preprocessing the dataset\n",
    "from sklearn.preprocessing import StandardScaler\n",
    "\n",
    "#metrics to evaluate the linear regression\n",
    "from sklearn.metrics import mean_squared_error\n",
    "from sklearn.metrics import r2_score\n",
    "from sklearn.metrics import mean_absolute_error\n",
    "\n",
    "#import warnings to ignore any warnings during execution\n",
    "import warnings\n",
    "warnings.filterwarnings('ignore')"
   ]
  },
  {
   "cell_type": "markdown",
   "id": "ranging-ordinary",
   "metadata": {
    "papermill": {
     "duration": 0.072339,
     "end_time": "2021-05-30T15:12:43.608113",
     "exception": false,
     "start_time": "2021-05-30T15:12:43.535774",
     "status": "completed"
    },
    "tags": []
   },
   "source": []
  },
  {
   "cell_type": "markdown",
   "id": "civil-innocent",
   "metadata": {
    "papermill": {
     "duration": 0.071847,
     "end_time": "2021-05-30T15:12:43.752343",
     "exception": false,
     "start_time": "2021-05-30T15:12:43.680496",
     "status": "completed"
    },
    "tags": []
   },
   "source": [
    "**EXPLORATORY DATA ANALYSIS(EDA)**"
   ]
  },
  {
   "cell_type": "markdown",
   "id": "valued-float",
   "metadata": {
    "papermill": {
     "duration": 0.071852,
     "end_time": "2021-05-30T15:12:43.896644",
     "exception": false,
     "start_time": "2021-05-30T15:12:43.824792",
     "status": "completed"
    },
    "tags": []
   },
   "source": [
    "load the csv file "
   ]
  },
  {
   "cell_type": "code",
   "execution_count": 3,
   "id": "vocational-detroit",
   "metadata": {
    "execution": {
     "iopub.execute_input": "2021-05-30T15:12:44.048001Z",
     "iopub.status.busy": "2021-05-30T15:12:44.047266Z",
     "iopub.status.idle": "2021-05-30T15:12:44.071072Z",
     "shell.execute_reply": "2021-05-30T15:12:44.071635Z",
     "shell.execute_reply.started": "2021-05-30T15:02:16.848466Z"
    },
    "papermill": {
     "duration": 0.10253,
     "end_time": "2021-05-30T15:12:44.071866",
     "exception": false,
     "start_time": "2021-05-30T15:12:43.969336",
     "status": "completed"
    },
    "tags": []
   },
   "outputs": [],
   "source": [
    "data=pd.read_csv(\"../input/car-price-dataset/CarPrice.csv\")\n"
   ]
  },
  {
   "cell_type": "markdown",
   "id": "excessive-diameter",
   "metadata": {
    "papermill": {
     "duration": 0.078964,
     "end_time": "2021-05-30T15:12:44.224078",
     "exception": false,
     "start_time": "2021-05-30T15:12:44.145114",
     "status": "completed"
    },
    "tags": []
   },
   "source": [
    "display the first five entries of data"
   ]
  },
  {
   "cell_type": "code",
   "execution_count": 4,
   "id": "eleven-personality",
   "metadata": {
    "execution": {
     "iopub.execute_input": "2021-05-30T15:12:44.393334Z",
     "iopub.status.busy": "2021-05-30T15:12:44.392388Z",
     "iopub.status.idle": "2021-05-30T15:12:44.437195Z",
     "shell.execute_reply": "2021-05-30T15:12:44.437701Z",
     "shell.execute_reply.started": "2021-05-30T15:02:16.974418Z"
    },
    "papermill": {
     "duration": 0.125535,
     "end_time": "2021-05-30T15:12:44.437899",
     "exception": false,
     "start_time": "2021-05-30T15:12:44.312364",
     "status": "completed"
    },
    "tags": []
   },
   "outputs": [
    {
     "data": {
      "text/html": [
       "<div>\n",
       "<style scoped>\n",
       "    .dataframe tbody tr th:only-of-type {\n",
       "        vertical-align: middle;\n",
       "    }\n",
       "\n",
       "    .dataframe tbody tr th {\n",
       "        vertical-align: top;\n",
       "    }\n",
       "\n",
       "    .dataframe thead th {\n",
       "        text-align: right;\n",
       "    }\n",
       "</style>\n",
       "<table border=\"1\" class=\"dataframe\">\n",
       "  <thead>\n",
       "    <tr style=\"text-align: right;\">\n",
       "      <th></th>\n",
       "      <th>car_ID</th>\n",
       "      <th>symboling</th>\n",
       "      <th>CarName</th>\n",
       "      <th>fueltype</th>\n",
       "      <th>aspiration</th>\n",
       "      <th>doornumber</th>\n",
       "      <th>carbody</th>\n",
       "      <th>drivewheel</th>\n",
       "      <th>enginelocation</th>\n",
       "      <th>wheelbase</th>\n",
       "      <th>...</th>\n",
       "      <th>enginesize</th>\n",
       "      <th>fuelsystem</th>\n",
       "      <th>boreratio</th>\n",
       "      <th>stroke</th>\n",
       "      <th>compressionratio</th>\n",
       "      <th>horsepower</th>\n",
       "      <th>peakrpm</th>\n",
       "      <th>citympg</th>\n",
       "      <th>highwaympg</th>\n",
       "      <th>price</th>\n",
       "    </tr>\n",
       "  </thead>\n",
       "  <tbody>\n",
       "    <tr>\n",
       "      <th>0</th>\n",
       "      <td>1</td>\n",
       "      <td>3</td>\n",
       "      <td>alfa-romero giulia</td>\n",
       "      <td>gas</td>\n",
       "      <td>std</td>\n",
       "      <td>two</td>\n",
       "      <td>convertible</td>\n",
       "      <td>rwd</td>\n",
       "      <td>front</td>\n",
       "      <td>88.6</td>\n",
       "      <td>...</td>\n",
       "      <td>130</td>\n",
       "      <td>mpfi</td>\n",
       "      <td>3.47</td>\n",
       "      <td>2.68</td>\n",
       "      <td>9.0</td>\n",
       "      <td>111</td>\n",
       "      <td>5000</td>\n",
       "      <td>21</td>\n",
       "      <td>27</td>\n",
       "      <td>13495.0</td>\n",
       "    </tr>\n",
       "    <tr>\n",
       "      <th>1</th>\n",
       "      <td>2</td>\n",
       "      <td>3</td>\n",
       "      <td>alfa-romero stelvio</td>\n",
       "      <td>gas</td>\n",
       "      <td>std</td>\n",
       "      <td>two</td>\n",
       "      <td>convertible</td>\n",
       "      <td>rwd</td>\n",
       "      <td>front</td>\n",
       "      <td>88.6</td>\n",
       "      <td>...</td>\n",
       "      <td>130</td>\n",
       "      <td>mpfi</td>\n",
       "      <td>3.47</td>\n",
       "      <td>2.68</td>\n",
       "      <td>9.0</td>\n",
       "      <td>111</td>\n",
       "      <td>5000</td>\n",
       "      <td>21</td>\n",
       "      <td>27</td>\n",
       "      <td>16500.0</td>\n",
       "    </tr>\n",
       "    <tr>\n",
       "      <th>2</th>\n",
       "      <td>3</td>\n",
       "      <td>1</td>\n",
       "      <td>alfa-romero Quadrifoglio</td>\n",
       "      <td>gas</td>\n",
       "      <td>std</td>\n",
       "      <td>two</td>\n",
       "      <td>hatchback</td>\n",
       "      <td>rwd</td>\n",
       "      <td>front</td>\n",
       "      <td>94.5</td>\n",
       "      <td>...</td>\n",
       "      <td>152</td>\n",
       "      <td>mpfi</td>\n",
       "      <td>2.68</td>\n",
       "      <td>3.47</td>\n",
       "      <td>9.0</td>\n",
       "      <td>154</td>\n",
       "      <td>5000</td>\n",
       "      <td>19</td>\n",
       "      <td>26</td>\n",
       "      <td>16500.0</td>\n",
       "    </tr>\n",
       "    <tr>\n",
       "      <th>3</th>\n",
       "      <td>4</td>\n",
       "      <td>2</td>\n",
       "      <td>audi 100 ls</td>\n",
       "      <td>gas</td>\n",
       "      <td>std</td>\n",
       "      <td>four</td>\n",
       "      <td>sedan</td>\n",
       "      <td>fwd</td>\n",
       "      <td>front</td>\n",
       "      <td>99.8</td>\n",
       "      <td>...</td>\n",
       "      <td>109</td>\n",
       "      <td>mpfi</td>\n",
       "      <td>3.19</td>\n",
       "      <td>3.40</td>\n",
       "      <td>10.0</td>\n",
       "      <td>102</td>\n",
       "      <td>5500</td>\n",
       "      <td>24</td>\n",
       "      <td>30</td>\n",
       "      <td>13950.0</td>\n",
       "    </tr>\n",
       "    <tr>\n",
       "      <th>4</th>\n",
       "      <td>5</td>\n",
       "      <td>2</td>\n",
       "      <td>audi 100ls</td>\n",
       "      <td>gas</td>\n",
       "      <td>std</td>\n",
       "      <td>four</td>\n",
       "      <td>sedan</td>\n",
       "      <td>4wd</td>\n",
       "      <td>front</td>\n",
       "      <td>99.4</td>\n",
       "      <td>...</td>\n",
       "      <td>136</td>\n",
       "      <td>mpfi</td>\n",
       "      <td>3.19</td>\n",
       "      <td>3.40</td>\n",
       "      <td>8.0</td>\n",
       "      <td>115</td>\n",
       "      <td>5500</td>\n",
       "      <td>18</td>\n",
       "      <td>22</td>\n",
       "      <td>17450.0</td>\n",
       "    </tr>\n",
       "  </tbody>\n",
       "</table>\n",
       "<p>5 rows × 26 columns</p>\n",
       "</div>"
      ],
      "text/plain": [
       "   car_ID  symboling                   CarName fueltype aspiration doornumber  \\\n",
       "0       1          3        alfa-romero giulia      gas        std        two   \n",
       "1       2          3       alfa-romero stelvio      gas        std        two   \n",
       "2       3          1  alfa-romero Quadrifoglio      gas        std        two   \n",
       "3       4          2               audi 100 ls      gas        std       four   \n",
       "4       5          2                audi 100ls      gas        std       four   \n",
       "\n",
       "       carbody drivewheel enginelocation  wheelbase  ...  enginesize  \\\n",
       "0  convertible        rwd          front       88.6  ...         130   \n",
       "1  convertible        rwd          front       88.6  ...         130   \n",
       "2    hatchback        rwd          front       94.5  ...         152   \n",
       "3        sedan        fwd          front       99.8  ...         109   \n",
       "4        sedan        4wd          front       99.4  ...         136   \n",
       "\n",
       "   fuelsystem  boreratio  stroke compressionratio horsepower  peakrpm citympg  \\\n",
       "0        mpfi       3.47    2.68              9.0        111     5000      21   \n",
       "1        mpfi       3.47    2.68              9.0        111     5000      21   \n",
       "2        mpfi       2.68    3.47              9.0        154     5000      19   \n",
       "3        mpfi       3.19    3.40             10.0        102     5500      24   \n",
       "4        mpfi       3.19    3.40              8.0        115     5500      18   \n",
       "\n",
       "   highwaympg    price  \n",
       "0          27  13495.0  \n",
       "1          27  16500.0  \n",
       "2          26  16500.0  \n",
       "3          30  13950.0  \n",
       "4          22  17450.0  \n",
       "\n",
       "[5 rows x 26 columns]"
      ]
     },
     "execution_count": 4,
     "metadata": {},
     "output_type": "execute_result"
    }
   ],
   "source": [
    "data.head()"
   ]
  },
  {
   "cell_type": "markdown",
   "id": "foster-wagon",
   "metadata": {
    "papermill": {
     "duration": 0.072926,
     "end_time": "2021-05-30T15:12:44.599373",
     "exception": false,
     "start_time": "2021-05-30T15:12:44.526447",
     "status": "completed"
    },
    "tags": []
   },
   "source": [
    "The dataset contains 205 rows with 26 features"
   ]
  },
  {
   "cell_type": "code",
   "execution_count": 5,
   "id": "appointed-thesaurus",
   "metadata": {
    "execution": {
     "iopub.execute_input": "2021-05-30T15:12:44.748505Z",
     "iopub.status.busy": "2021-05-30T15:12:44.747550Z",
     "iopub.status.idle": "2021-05-30T15:12:44.752962Z",
     "shell.execute_reply": "2021-05-30T15:12:44.753553Z",
     "shell.execute_reply.started": "2021-05-30T15:02:17.499668Z"
    },
    "papermill": {
     "duration": 0.082352,
     "end_time": "2021-05-30T15:12:44.753733",
     "exception": false,
     "start_time": "2021-05-30T15:12:44.671381",
     "status": "completed"
    },
    "tags": []
   },
   "outputs": [
    {
     "data": {
      "text/plain": [
       "(205, 26)"
      ]
     },
     "execution_count": 5,
     "metadata": {},
     "output_type": "execute_result"
    }
   ],
   "source": [
    "data.shape"
   ]
  },
  {
   "cell_type": "markdown",
   "id": "egyptian-fence",
   "metadata": {
    "papermill": {
     "duration": 0.073961,
     "end_time": "2021-05-30T15:12:44.900950",
     "exception": false,
     "start_time": "2021-05-30T15:12:44.826989",
     "status": "completed"
    },
    "tags": []
   },
   "source": [
    "The features in the dataset does not contain any null values"
   ]
  },
  {
   "cell_type": "markdown",
   "id": "dimensional-doctor",
   "metadata": {
    "papermill": {
     "duration": 0.076454,
     "end_time": "2021-05-30T15:12:45.053397",
     "exception": false,
     "start_time": "2021-05-30T15:12:44.976943",
     "status": "completed"
    },
    "tags": []
   },
   "source": []
  },
  {
   "cell_type": "code",
   "execution_count": 6,
   "id": "opened-novel",
   "metadata": {
    "execution": {
     "iopub.execute_input": "2021-05-30T15:12:45.212071Z",
     "iopub.status.busy": "2021-05-30T15:12:45.211138Z",
     "iopub.status.idle": "2021-05-30T15:12:45.214782Z",
     "shell.execute_reply": "2021-05-30T15:12:45.215240Z",
     "shell.execute_reply.started": "2021-05-30T15:02:17.887500Z"
    },
    "papermill": {
     "duration": 0.089655,
     "end_time": "2021-05-30T15:12:45.215414",
     "exception": false,
     "start_time": "2021-05-30T15:12:45.125759",
     "status": "completed"
    },
    "tags": []
   },
   "outputs": [
    {
     "data": {
      "text/plain": [
       "car_ID              0\n",
       "symboling           0\n",
       "CarName             0\n",
       "fueltype            0\n",
       "aspiration          0\n",
       "doornumber          0\n",
       "carbody             0\n",
       "drivewheel          0\n",
       "enginelocation      0\n",
       "wheelbase           0\n",
       "carlength           0\n",
       "carwidth            0\n",
       "carheight           0\n",
       "curbweight          0\n",
       "enginetype          0\n",
       "cylindernumber      0\n",
       "enginesize          0\n",
       "fuelsystem          0\n",
       "boreratio           0\n",
       "stroke              0\n",
       "compressionratio    0\n",
       "horsepower          0\n",
       "peakrpm             0\n",
       "citympg             0\n",
       "highwaympg          0\n",
       "price               0\n",
       "dtype: int64"
      ]
     },
     "execution_count": 6,
     "metadata": {},
     "output_type": "execute_result"
    }
   ],
   "source": [
    "data.isnull().sum()"
   ]
  },
  {
   "cell_type": "markdown",
   "id": "racial-valley",
   "metadata": {
    "papermill": {
     "duration": 0.073015,
     "end_time": "2021-05-30T15:12:45.361618",
     "exception": false,
     "start_time": "2021-05-30T15:12:45.288603",
     "status": "completed"
    },
    "tags": []
   },
   "source": [
    "info() will return the informations of columns(features),count of non-null values and datatype of individual columns"
   ]
  },
  {
   "cell_type": "code",
   "execution_count": 7,
   "id": "respective-perception",
   "metadata": {
    "execution": {
     "iopub.execute_input": "2021-05-30T15:12:45.534130Z",
     "iopub.status.busy": "2021-05-30T15:12:45.533405Z",
     "iopub.status.idle": "2021-05-30T15:12:45.537471Z",
     "shell.execute_reply": "2021-05-30T15:12:45.536357Z",
     "shell.execute_reply.started": "2021-05-30T15:02:18.257811Z"
    },
    "papermill": {
     "duration": 0.102216,
     "end_time": "2021-05-30T15:12:45.537645",
     "exception": false,
     "start_time": "2021-05-30T15:12:45.435429",
     "status": "completed"
    },
    "tags": []
   },
   "outputs": [
    {
     "name": "stdout",
     "output_type": "stream",
     "text": [
      "<class 'pandas.core.frame.DataFrame'>\n",
      "RangeIndex: 205 entries, 0 to 204\n",
      "Data columns (total 26 columns):\n",
      " #   Column            Non-Null Count  Dtype  \n",
      "---  ------            --------------  -----  \n",
      " 0   car_ID            205 non-null    int64  \n",
      " 1   symboling         205 non-null    int64  \n",
      " 2   CarName           205 non-null    object \n",
      " 3   fueltype          205 non-null    object \n",
      " 4   aspiration        205 non-null    object \n",
      " 5   doornumber        205 non-null    object \n",
      " 6   carbody           205 non-null    object \n",
      " 7   drivewheel        205 non-null    object \n",
      " 8   enginelocation    205 non-null    object \n",
      " 9   wheelbase         205 non-null    float64\n",
      " 10  carlength         205 non-null    float64\n",
      " 11  carwidth          205 non-null    float64\n",
      " 12  carheight         205 non-null    float64\n",
      " 13  curbweight        205 non-null    int64  \n",
      " 14  enginetype        205 non-null    object \n",
      " 15  cylindernumber    205 non-null    object \n",
      " 16  enginesize        205 non-null    int64  \n",
      " 17  fuelsystem        205 non-null    object \n",
      " 18  boreratio         205 non-null    float64\n",
      " 19  stroke            205 non-null    float64\n",
      " 20  compressionratio  205 non-null    float64\n",
      " 21  horsepower        205 non-null    int64  \n",
      " 22  peakrpm           205 non-null    int64  \n",
      " 23  citympg           205 non-null    int64  \n",
      " 24  highwaympg        205 non-null    int64  \n",
      " 25  price             205 non-null    float64\n",
      "dtypes: float64(8), int64(8), object(10)\n",
      "memory usage: 41.8+ KB\n"
     ]
    }
   ],
   "source": [
    "data.info()"
   ]
  },
  {
   "cell_type": "markdown",
   "id": "regular-caribbean",
   "metadata": {
    "papermill": {
     "duration": 0.073532,
     "end_time": "2021-05-30T15:12:45.687283",
     "exception": false,
     "start_time": "2021-05-30T15:12:45.613751",
     "status": "completed"
    },
    "tags": []
   },
   "source": [
    "**describe()** describes the features of the dataframe by & default it will show the description of only int and float features but by specifying **include=\"all\"** we will be able to get the description of all features irrespective of its datatypes"
   ]
  },
  {
   "cell_type": "code",
   "execution_count": 8,
   "id": "expected-bridge",
   "metadata": {
    "execution": {
     "iopub.execute_input": "2021-05-30T15:12:45.841864Z",
     "iopub.status.busy": "2021-05-30T15:12:45.841176Z",
     "iopub.status.idle": "2021-05-30T15:12:45.947052Z",
     "shell.execute_reply": "2021-05-30T15:12:45.947613Z",
     "shell.execute_reply.started": "2021-05-30T15:02:21.778453Z"
    },
    "papermill": {
     "duration": 0.18704,
     "end_time": "2021-05-30T15:12:45.947837",
     "exception": false,
     "start_time": "2021-05-30T15:12:45.760797",
     "status": "completed"
    },
    "tags": []
   },
   "outputs": [
    {
     "data": {
      "text/html": [
       "<div>\n",
       "<style scoped>\n",
       "    .dataframe tbody tr th:only-of-type {\n",
       "        vertical-align: middle;\n",
       "    }\n",
       "\n",
       "    .dataframe tbody tr th {\n",
       "        vertical-align: top;\n",
       "    }\n",
       "\n",
       "    .dataframe thead th {\n",
       "        text-align: right;\n",
       "    }\n",
       "</style>\n",
       "<table border=\"1\" class=\"dataframe\">\n",
       "  <thead>\n",
       "    <tr style=\"text-align: right;\">\n",
       "      <th></th>\n",
       "      <th>car_ID</th>\n",
       "      <th>symboling</th>\n",
       "      <th>CarName</th>\n",
       "      <th>fueltype</th>\n",
       "      <th>aspiration</th>\n",
       "      <th>doornumber</th>\n",
       "      <th>carbody</th>\n",
       "      <th>drivewheel</th>\n",
       "      <th>enginelocation</th>\n",
       "      <th>wheelbase</th>\n",
       "      <th>...</th>\n",
       "      <th>enginesize</th>\n",
       "      <th>fuelsystem</th>\n",
       "      <th>boreratio</th>\n",
       "      <th>stroke</th>\n",
       "      <th>compressionratio</th>\n",
       "      <th>horsepower</th>\n",
       "      <th>peakrpm</th>\n",
       "      <th>citympg</th>\n",
       "      <th>highwaympg</th>\n",
       "      <th>price</th>\n",
       "    </tr>\n",
       "  </thead>\n",
       "  <tbody>\n",
       "    <tr>\n",
       "      <th>count</th>\n",
       "      <td>205.000000</td>\n",
       "      <td>205.000000</td>\n",
       "      <td>205</td>\n",
       "      <td>205</td>\n",
       "      <td>205</td>\n",
       "      <td>205</td>\n",
       "      <td>205</td>\n",
       "      <td>205</td>\n",
       "      <td>205</td>\n",
       "      <td>205.000000</td>\n",
       "      <td>...</td>\n",
       "      <td>205.000000</td>\n",
       "      <td>205</td>\n",
       "      <td>205.000000</td>\n",
       "      <td>205.000000</td>\n",
       "      <td>205.000000</td>\n",
       "      <td>205.000000</td>\n",
       "      <td>205.000000</td>\n",
       "      <td>205.000000</td>\n",
       "      <td>205.000000</td>\n",
       "      <td>205.000000</td>\n",
       "    </tr>\n",
       "    <tr>\n",
       "      <th>unique</th>\n",
       "      <td>NaN</td>\n",
       "      <td>NaN</td>\n",
       "      <td>147</td>\n",
       "      <td>2</td>\n",
       "      <td>2</td>\n",
       "      <td>2</td>\n",
       "      <td>5</td>\n",
       "      <td>3</td>\n",
       "      <td>2</td>\n",
       "      <td>NaN</td>\n",
       "      <td>...</td>\n",
       "      <td>NaN</td>\n",
       "      <td>8</td>\n",
       "      <td>NaN</td>\n",
       "      <td>NaN</td>\n",
       "      <td>NaN</td>\n",
       "      <td>NaN</td>\n",
       "      <td>NaN</td>\n",
       "      <td>NaN</td>\n",
       "      <td>NaN</td>\n",
       "      <td>NaN</td>\n",
       "    </tr>\n",
       "    <tr>\n",
       "      <th>top</th>\n",
       "      <td>NaN</td>\n",
       "      <td>NaN</td>\n",
       "      <td>toyota corona</td>\n",
       "      <td>gas</td>\n",
       "      <td>std</td>\n",
       "      <td>four</td>\n",
       "      <td>sedan</td>\n",
       "      <td>fwd</td>\n",
       "      <td>front</td>\n",
       "      <td>NaN</td>\n",
       "      <td>...</td>\n",
       "      <td>NaN</td>\n",
       "      <td>mpfi</td>\n",
       "      <td>NaN</td>\n",
       "      <td>NaN</td>\n",
       "      <td>NaN</td>\n",
       "      <td>NaN</td>\n",
       "      <td>NaN</td>\n",
       "      <td>NaN</td>\n",
       "      <td>NaN</td>\n",
       "      <td>NaN</td>\n",
       "    </tr>\n",
       "    <tr>\n",
       "      <th>freq</th>\n",
       "      <td>NaN</td>\n",
       "      <td>NaN</td>\n",
       "      <td>6</td>\n",
       "      <td>185</td>\n",
       "      <td>168</td>\n",
       "      <td>115</td>\n",
       "      <td>96</td>\n",
       "      <td>120</td>\n",
       "      <td>202</td>\n",
       "      <td>NaN</td>\n",
       "      <td>...</td>\n",
       "      <td>NaN</td>\n",
       "      <td>94</td>\n",
       "      <td>NaN</td>\n",
       "      <td>NaN</td>\n",
       "      <td>NaN</td>\n",
       "      <td>NaN</td>\n",
       "      <td>NaN</td>\n",
       "      <td>NaN</td>\n",
       "      <td>NaN</td>\n",
       "      <td>NaN</td>\n",
       "    </tr>\n",
       "    <tr>\n",
       "      <th>mean</th>\n",
       "      <td>103.000000</td>\n",
       "      <td>0.834146</td>\n",
       "      <td>NaN</td>\n",
       "      <td>NaN</td>\n",
       "      <td>NaN</td>\n",
       "      <td>NaN</td>\n",
       "      <td>NaN</td>\n",
       "      <td>NaN</td>\n",
       "      <td>NaN</td>\n",
       "      <td>98.756585</td>\n",
       "      <td>...</td>\n",
       "      <td>126.907317</td>\n",
       "      <td>NaN</td>\n",
       "      <td>3.329756</td>\n",
       "      <td>3.255415</td>\n",
       "      <td>10.142537</td>\n",
       "      <td>104.117073</td>\n",
       "      <td>5125.121951</td>\n",
       "      <td>25.219512</td>\n",
       "      <td>30.751220</td>\n",
       "      <td>13276.710571</td>\n",
       "    </tr>\n",
       "    <tr>\n",
       "      <th>std</th>\n",
       "      <td>59.322565</td>\n",
       "      <td>1.245307</td>\n",
       "      <td>NaN</td>\n",
       "      <td>NaN</td>\n",
       "      <td>NaN</td>\n",
       "      <td>NaN</td>\n",
       "      <td>NaN</td>\n",
       "      <td>NaN</td>\n",
       "      <td>NaN</td>\n",
       "      <td>6.021776</td>\n",
       "      <td>...</td>\n",
       "      <td>41.642693</td>\n",
       "      <td>NaN</td>\n",
       "      <td>0.270844</td>\n",
       "      <td>0.313597</td>\n",
       "      <td>3.972040</td>\n",
       "      <td>39.544167</td>\n",
       "      <td>476.985643</td>\n",
       "      <td>6.542142</td>\n",
       "      <td>6.886443</td>\n",
       "      <td>7988.852332</td>\n",
       "    </tr>\n",
       "    <tr>\n",
       "      <th>min</th>\n",
       "      <td>1.000000</td>\n",
       "      <td>-2.000000</td>\n",
       "      <td>NaN</td>\n",
       "      <td>NaN</td>\n",
       "      <td>NaN</td>\n",
       "      <td>NaN</td>\n",
       "      <td>NaN</td>\n",
       "      <td>NaN</td>\n",
       "      <td>NaN</td>\n",
       "      <td>86.600000</td>\n",
       "      <td>...</td>\n",
       "      <td>61.000000</td>\n",
       "      <td>NaN</td>\n",
       "      <td>2.540000</td>\n",
       "      <td>2.070000</td>\n",
       "      <td>7.000000</td>\n",
       "      <td>48.000000</td>\n",
       "      <td>4150.000000</td>\n",
       "      <td>13.000000</td>\n",
       "      <td>16.000000</td>\n",
       "      <td>5118.000000</td>\n",
       "    </tr>\n",
       "    <tr>\n",
       "      <th>25%</th>\n",
       "      <td>52.000000</td>\n",
       "      <td>0.000000</td>\n",
       "      <td>NaN</td>\n",
       "      <td>NaN</td>\n",
       "      <td>NaN</td>\n",
       "      <td>NaN</td>\n",
       "      <td>NaN</td>\n",
       "      <td>NaN</td>\n",
       "      <td>NaN</td>\n",
       "      <td>94.500000</td>\n",
       "      <td>...</td>\n",
       "      <td>97.000000</td>\n",
       "      <td>NaN</td>\n",
       "      <td>3.150000</td>\n",
       "      <td>3.110000</td>\n",
       "      <td>8.600000</td>\n",
       "      <td>70.000000</td>\n",
       "      <td>4800.000000</td>\n",
       "      <td>19.000000</td>\n",
       "      <td>25.000000</td>\n",
       "      <td>7788.000000</td>\n",
       "    </tr>\n",
       "    <tr>\n",
       "      <th>50%</th>\n",
       "      <td>103.000000</td>\n",
       "      <td>1.000000</td>\n",
       "      <td>NaN</td>\n",
       "      <td>NaN</td>\n",
       "      <td>NaN</td>\n",
       "      <td>NaN</td>\n",
       "      <td>NaN</td>\n",
       "      <td>NaN</td>\n",
       "      <td>NaN</td>\n",
       "      <td>97.000000</td>\n",
       "      <td>...</td>\n",
       "      <td>120.000000</td>\n",
       "      <td>NaN</td>\n",
       "      <td>3.310000</td>\n",
       "      <td>3.290000</td>\n",
       "      <td>9.000000</td>\n",
       "      <td>95.000000</td>\n",
       "      <td>5200.000000</td>\n",
       "      <td>24.000000</td>\n",
       "      <td>30.000000</td>\n",
       "      <td>10295.000000</td>\n",
       "    </tr>\n",
       "    <tr>\n",
       "      <th>75%</th>\n",
       "      <td>154.000000</td>\n",
       "      <td>2.000000</td>\n",
       "      <td>NaN</td>\n",
       "      <td>NaN</td>\n",
       "      <td>NaN</td>\n",
       "      <td>NaN</td>\n",
       "      <td>NaN</td>\n",
       "      <td>NaN</td>\n",
       "      <td>NaN</td>\n",
       "      <td>102.400000</td>\n",
       "      <td>...</td>\n",
       "      <td>141.000000</td>\n",
       "      <td>NaN</td>\n",
       "      <td>3.580000</td>\n",
       "      <td>3.410000</td>\n",
       "      <td>9.400000</td>\n",
       "      <td>116.000000</td>\n",
       "      <td>5500.000000</td>\n",
       "      <td>30.000000</td>\n",
       "      <td>34.000000</td>\n",
       "      <td>16503.000000</td>\n",
       "    </tr>\n",
       "    <tr>\n",
       "      <th>max</th>\n",
       "      <td>205.000000</td>\n",
       "      <td>3.000000</td>\n",
       "      <td>NaN</td>\n",
       "      <td>NaN</td>\n",
       "      <td>NaN</td>\n",
       "      <td>NaN</td>\n",
       "      <td>NaN</td>\n",
       "      <td>NaN</td>\n",
       "      <td>NaN</td>\n",
       "      <td>120.900000</td>\n",
       "      <td>...</td>\n",
       "      <td>326.000000</td>\n",
       "      <td>NaN</td>\n",
       "      <td>3.940000</td>\n",
       "      <td>4.170000</td>\n",
       "      <td>23.000000</td>\n",
       "      <td>288.000000</td>\n",
       "      <td>6600.000000</td>\n",
       "      <td>49.000000</td>\n",
       "      <td>54.000000</td>\n",
       "      <td>45400.000000</td>\n",
       "    </tr>\n",
       "  </tbody>\n",
       "</table>\n",
       "<p>11 rows × 26 columns</p>\n",
       "</div>"
      ],
      "text/plain": [
       "            car_ID   symboling        CarName fueltype aspiration doornumber  \\\n",
       "count   205.000000  205.000000            205      205        205        205   \n",
       "unique         NaN         NaN            147        2          2          2   \n",
       "top            NaN         NaN  toyota corona      gas        std       four   \n",
       "freq           NaN         NaN              6      185        168        115   \n",
       "mean    103.000000    0.834146            NaN      NaN        NaN        NaN   \n",
       "std      59.322565    1.245307            NaN      NaN        NaN        NaN   \n",
       "min       1.000000   -2.000000            NaN      NaN        NaN        NaN   \n",
       "25%      52.000000    0.000000            NaN      NaN        NaN        NaN   \n",
       "50%     103.000000    1.000000            NaN      NaN        NaN        NaN   \n",
       "75%     154.000000    2.000000            NaN      NaN        NaN        NaN   \n",
       "max     205.000000    3.000000            NaN      NaN        NaN        NaN   \n",
       "\n",
       "       carbody drivewheel enginelocation   wheelbase  ...  enginesize  \\\n",
       "count      205        205            205  205.000000  ...  205.000000   \n",
       "unique       5          3              2         NaN  ...         NaN   \n",
       "top      sedan        fwd          front         NaN  ...         NaN   \n",
       "freq        96        120            202         NaN  ...         NaN   \n",
       "mean       NaN        NaN            NaN   98.756585  ...  126.907317   \n",
       "std        NaN        NaN            NaN    6.021776  ...   41.642693   \n",
       "min        NaN        NaN            NaN   86.600000  ...   61.000000   \n",
       "25%        NaN        NaN            NaN   94.500000  ...   97.000000   \n",
       "50%        NaN        NaN            NaN   97.000000  ...  120.000000   \n",
       "75%        NaN        NaN            NaN  102.400000  ...  141.000000   \n",
       "max        NaN        NaN            NaN  120.900000  ...  326.000000   \n",
       "\n",
       "        fuelsystem   boreratio      stroke compressionratio  horsepower  \\\n",
       "count          205  205.000000  205.000000       205.000000  205.000000   \n",
       "unique           8         NaN         NaN              NaN         NaN   \n",
       "top           mpfi         NaN         NaN              NaN         NaN   \n",
       "freq            94         NaN         NaN              NaN         NaN   \n",
       "mean           NaN    3.329756    3.255415        10.142537  104.117073   \n",
       "std            NaN    0.270844    0.313597         3.972040   39.544167   \n",
       "min            NaN    2.540000    2.070000         7.000000   48.000000   \n",
       "25%            NaN    3.150000    3.110000         8.600000   70.000000   \n",
       "50%            NaN    3.310000    3.290000         9.000000   95.000000   \n",
       "75%            NaN    3.580000    3.410000         9.400000  116.000000   \n",
       "max            NaN    3.940000    4.170000        23.000000  288.000000   \n",
       "\n",
       "            peakrpm     citympg  highwaympg         price  \n",
       "count    205.000000  205.000000  205.000000    205.000000  \n",
       "unique          NaN         NaN         NaN           NaN  \n",
       "top             NaN         NaN         NaN           NaN  \n",
       "freq            NaN         NaN         NaN           NaN  \n",
       "mean    5125.121951   25.219512   30.751220  13276.710571  \n",
       "std      476.985643    6.542142    6.886443   7988.852332  \n",
       "min     4150.000000   13.000000   16.000000   5118.000000  \n",
       "25%     4800.000000   19.000000   25.000000   7788.000000  \n",
       "50%     5200.000000   24.000000   30.000000  10295.000000  \n",
       "75%     5500.000000   30.000000   34.000000  16503.000000  \n",
       "max     6600.000000   49.000000   54.000000  45400.000000  \n",
       "\n",
       "[11 rows x 26 columns]"
      ]
     },
     "execution_count": 8,
     "metadata": {},
     "output_type": "execute_result"
    }
   ],
   "source": [
    "data.describe(include=\"all\")"
   ]
  },
  {
   "cell_type": "markdown",
   "id": "olive-motorcycle",
   "metadata": {
    "papermill": {
     "duration": 0.074745,
     "end_time": "2021-05-30T15:12:46.097881",
     "exception": false,
     "start_time": "2021-05-30T15:12:46.023136",
     "status": "completed"
    },
    "tags": []
   },
   "source": [
    "I have dropped two features **car_ID** & **CarName** because they does not effect the price of the car in the dataset."
   ]
  },
  {
   "cell_type": "code",
   "execution_count": 9,
   "id": "authorized-telephone",
   "metadata": {
    "execution": {
     "iopub.execute_input": "2021-05-30T15:12:46.256799Z",
     "iopub.status.busy": "2021-05-30T15:12:46.255762Z",
     "iopub.status.idle": "2021-05-30T15:12:46.258151Z",
     "shell.execute_reply": "2021-05-30T15:12:46.258644Z",
     "shell.execute_reply.started": "2021-05-30T15:02:22.194522Z"
    },
    "papermill": {
     "duration": 0.085384,
     "end_time": "2021-05-30T15:12:46.258861",
     "exception": false,
     "start_time": "2021-05-30T15:12:46.173477",
     "status": "completed"
    },
    "tags": []
   },
   "outputs": [],
   "source": [
    "#data.drop(axis=0) by default so its important to specify the axis=1 else you can specify \n",
    "#columns=[\"car_ID\",\"CarName\"]\n",
    "df_car=data.drop([\"car_ID\",\"CarName\"],\n",
    "         axis=1\n",
    "         )"
   ]
  },
  {
   "cell_type": "markdown",
   "id": "educated-startup",
   "metadata": {
    "papermill": {
     "duration": 0.074491,
     "end_time": "2021-05-30T15:12:46.407732",
     "exception": false,
     "start_time": "2021-05-30T15:12:46.333241",
     "status": "completed"
    },
    "tags": []
   },
   "source": [
    "We are now able to see the remaining columns in the dataset after dropping **car_ID** and **CarName**"
   ]
  },
  {
   "cell_type": "code",
   "execution_count": 10,
   "id": "selective-crystal",
   "metadata": {
    "execution": {
     "iopub.execute_input": "2021-05-30T15:12:46.561157Z",
     "iopub.status.busy": "2021-05-30T15:12:46.560175Z",
     "iopub.status.idle": "2021-05-30T15:12:46.566423Z",
     "shell.execute_reply": "2021-05-30T15:12:46.566879Z",
     "shell.execute_reply.started": "2021-05-30T15:02:22.680011Z"
    },
    "papermill": {
     "duration": 0.084635,
     "end_time": "2021-05-30T15:12:46.567088",
     "exception": false,
     "start_time": "2021-05-30T15:12:46.482453",
     "status": "completed"
    },
    "tags": []
   },
   "outputs": [
    {
     "data": {
      "text/plain": [
       "Index(['symboling', 'fueltype', 'aspiration', 'doornumber', 'carbody',\n",
       "       'drivewheel', 'enginelocation', 'wheelbase', 'carlength', 'carwidth',\n",
       "       'carheight', 'curbweight', 'enginetype', 'cylindernumber', 'enginesize',\n",
       "       'fuelsystem', 'boreratio', 'stroke', 'compressionratio', 'horsepower',\n",
       "       'peakrpm', 'citympg', 'highwaympg', 'price'],\n",
       "      dtype='object')"
      ]
     },
     "execution_count": 10,
     "metadata": {},
     "output_type": "execute_result"
    }
   ],
   "source": [
    "df_car.columns"
   ]
  },
  {
   "cell_type": "markdown",
   "id": "broadband-raise",
   "metadata": {
    "papermill": {
     "duration": 0.074173,
     "end_time": "2021-05-30T15:12:46.715748",
     "exception": false,
     "start_time": "2021-05-30T15:12:46.641575",
     "status": "completed"
    },
    "tags": []
   },
   "source": []
  },
  {
   "cell_type": "markdown",
   "id": "identical-convenience",
   "metadata": {
    "papermill": {
     "duration": 0.077055,
     "end_time": "2021-05-30T15:12:46.867851",
     "exception": false,
     "start_time": "2021-05-30T15:12:46.790796",
     "status": "completed"
    },
    "tags": []
   },
   "source": [
    "Display the first five entries of dataframe"
   ]
  },
  {
   "cell_type": "code",
   "execution_count": 11,
   "id": "metallic-hamburg",
   "metadata": {
    "execution": {
     "iopub.execute_input": "2021-05-30T15:12:47.024675Z",
     "iopub.status.busy": "2021-05-30T15:12:47.023720Z",
     "iopub.status.idle": "2021-05-30T15:12:47.054281Z",
     "shell.execute_reply": "2021-05-30T15:12:47.054749Z",
     "shell.execute_reply.started": "2021-05-30T15:02:23.072584Z"
    },
    "papermill": {
     "duration": 0.110826,
     "end_time": "2021-05-30T15:12:47.054972",
     "exception": false,
     "start_time": "2021-05-30T15:12:46.944146",
     "status": "completed"
    },
    "tags": []
   },
   "outputs": [
    {
     "data": {
      "text/html": [
       "<div>\n",
       "<style scoped>\n",
       "    .dataframe tbody tr th:only-of-type {\n",
       "        vertical-align: middle;\n",
       "    }\n",
       "\n",
       "    .dataframe tbody tr th {\n",
       "        vertical-align: top;\n",
       "    }\n",
       "\n",
       "    .dataframe thead th {\n",
       "        text-align: right;\n",
       "    }\n",
       "</style>\n",
       "<table border=\"1\" class=\"dataframe\">\n",
       "  <thead>\n",
       "    <tr style=\"text-align: right;\">\n",
       "      <th></th>\n",
       "      <th>symboling</th>\n",
       "      <th>fueltype</th>\n",
       "      <th>aspiration</th>\n",
       "      <th>doornumber</th>\n",
       "      <th>carbody</th>\n",
       "      <th>drivewheel</th>\n",
       "      <th>enginelocation</th>\n",
       "      <th>wheelbase</th>\n",
       "      <th>carlength</th>\n",
       "      <th>carwidth</th>\n",
       "      <th>...</th>\n",
       "      <th>enginesize</th>\n",
       "      <th>fuelsystem</th>\n",
       "      <th>boreratio</th>\n",
       "      <th>stroke</th>\n",
       "      <th>compressionratio</th>\n",
       "      <th>horsepower</th>\n",
       "      <th>peakrpm</th>\n",
       "      <th>citympg</th>\n",
       "      <th>highwaympg</th>\n",
       "      <th>price</th>\n",
       "    </tr>\n",
       "  </thead>\n",
       "  <tbody>\n",
       "    <tr>\n",
       "      <th>0</th>\n",
       "      <td>3</td>\n",
       "      <td>gas</td>\n",
       "      <td>std</td>\n",
       "      <td>two</td>\n",
       "      <td>convertible</td>\n",
       "      <td>rwd</td>\n",
       "      <td>front</td>\n",
       "      <td>88.6</td>\n",
       "      <td>168.8</td>\n",
       "      <td>64.1</td>\n",
       "      <td>...</td>\n",
       "      <td>130</td>\n",
       "      <td>mpfi</td>\n",
       "      <td>3.47</td>\n",
       "      <td>2.68</td>\n",
       "      <td>9.0</td>\n",
       "      <td>111</td>\n",
       "      <td>5000</td>\n",
       "      <td>21</td>\n",
       "      <td>27</td>\n",
       "      <td>13495.0</td>\n",
       "    </tr>\n",
       "    <tr>\n",
       "      <th>1</th>\n",
       "      <td>3</td>\n",
       "      <td>gas</td>\n",
       "      <td>std</td>\n",
       "      <td>two</td>\n",
       "      <td>convertible</td>\n",
       "      <td>rwd</td>\n",
       "      <td>front</td>\n",
       "      <td>88.6</td>\n",
       "      <td>168.8</td>\n",
       "      <td>64.1</td>\n",
       "      <td>...</td>\n",
       "      <td>130</td>\n",
       "      <td>mpfi</td>\n",
       "      <td>3.47</td>\n",
       "      <td>2.68</td>\n",
       "      <td>9.0</td>\n",
       "      <td>111</td>\n",
       "      <td>5000</td>\n",
       "      <td>21</td>\n",
       "      <td>27</td>\n",
       "      <td>16500.0</td>\n",
       "    </tr>\n",
       "    <tr>\n",
       "      <th>2</th>\n",
       "      <td>1</td>\n",
       "      <td>gas</td>\n",
       "      <td>std</td>\n",
       "      <td>two</td>\n",
       "      <td>hatchback</td>\n",
       "      <td>rwd</td>\n",
       "      <td>front</td>\n",
       "      <td>94.5</td>\n",
       "      <td>171.2</td>\n",
       "      <td>65.5</td>\n",
       "      <td>...</td>\n",
       "      <td>152</td>\n",
       "      <td>mpfi</td>\n",
       "      <td>2.68</td>\n",
       "      <td>3.47</td>\n",
       "      <td>9.0</td>\n",
       "      <td>154</td>\n",
       "      <td>5000</td>\n",
       "      <td>19</td>\n",
       "      <td>26</td>\n",
       "      <td>16500.0</td>\n",
       "    </tr>\n",
       "    <tr>\n",
       "      <th>3</th>\n",
       "      <td>2</td>\n",
       "      <td>gas</td>\n",
       "      <td>std</td>\n",
       "      <td>four</td>\n",
       "      <td>sedan</td>\n",
       "      <td>fwd</td>\n",
       "      <td>front</td>\n",
       "      <td>99.8</td>\n",
       "      <td>176.6</td>\n",
       "      <td>66.2</td>\n",
       "      <td>...</td>\n",
       "      <td>109</td>\n",
       "      <td>mpfi</td>\n",
       "      <td>3.19</td>\n",
       "      <td>3.40</td>\n",
       "      <td>10.0</td>\n",
       "      <td>102</td>\n",
       "      <td>5500</td>\n",
       "      <td>24</td>\n",
       "      <td>30</td>\n",
       "      <td>13950.0</td>\n",
       "    </tr>\n",
       "    <tr>\n",
       "      <th>4</th>\n",
       "      <td>2</td>\n",
       "      <td>gas</td>\n",
       "      <td>std</td>\n",
       "      <td>four</td>\n",
       "      <td>sedan</td>\n",
       "      <td>4wd</td>\n",
       "      <td>front</td>\n",
       "      <td>99.4</td>\n",
       "      <td>176.6</td>\n",
       "      <td>66.4</td>\n",
       "      <td>...</td>\n",
       "      <td>136</td>\n",
       "      <td>mpfi</td>\n",
       "      <td>3.19</td>\n",
       "      <td>3.40</td>\n",
       "      <td>8.0</td>\n",
       "      <td>115</td>\n",
       "      <td>5500</td>\n",
       "      <td>18</td>\n",
       "      <td>22</td>\n",
       "      <td>17450.0</td>\n",
       "    </tr>\n",
       "  </tbody>\n",
       "</table>\n",
       "<p>5 rows × 24 columns</p>\n",
       "</div>"
      ],
      "text/plain": [
       "   symboling fueltype aspiration doornumber      carbody drivewheel  \\\n",
       "0          3      gas        std        two  convertible        rwd   \n",
       "1          3      gas        std        two  convertible        rwd   \n",
       "2          1      gas        std        two    hatchback        rwd   \n",
       "3          2      gas        std       four        sedan        fwd   \n",
       "4          2      gas        std       four        sedan        4wd   \n",
       "\n",
       "  enginelocation  wheelbase  carlength  carwidth  ...  enginesize  fuelsystem  \\\n",
       "0          front       88.6      168.8      64.1  ...         130        mpfi   \n",
       "1          front       88.6      168.8      64.1  ...         130        mpfi   \n",
       "2          front       94.5      171.2      65.5  ...         152        mpfi   \n",
       "3          front       99.8      176.6      66.2  ...         109        mpfi   \n",
       "4          front       99.4      176.6      66.4  ...         136        mpfi   \n",
       "\n",
       "  boreratio stroke  compressionratio horsepower  peakrpm  citympg  highwaympg  \\\n",
       "0      3.47   2.68               9.0        111     5000       21          27   \n",
       "1      3.47   2.68               9.0        111     5000       21          27   \n",
       "2      2.68   3.47               9.0        154     5000       19          26   \n",
       "3      3.19   3.40              10.0        102     5500       24          30   \n",
       "4      3.19   3.40               8.0        115     5500       18          22   \n",
       "\n",
       "     price  \n",
       "0  13495.0  \n",
       "1  16500.0  \n",
       "2  16500.0  \n",
       "3  13950.0  \n",
       "4  17450.0  \n",
       "\n",
       "[5 rows x 24 columns]"
      ]
     },
     "execution_count": 11,
     "metadata": {},
     "output_type": "execute_result"
    }
   ],
   "source": [
    "df_car.head()"
   ]
  },
  {
   "cell_type": "markdown",
   "id": "electric-brown",
   "metadata": {
    "papermill": {
     "duration": 0.075582,
     "end_time": "2021-05-30T15:12:47.207590",
     "exception": false,
     "start_time": "2021-05-30T15:12:47.132008",
     "status": "completed"
    },
    "tags": []
   },
   "source": [
    "Split the dataset into **dependent(y)** & **independent(X)** variables,\n",
    "\n",
    "Dependent variable is also called the target variable which is **price** of the car in our case"
   ]
  },
  {
   "cell_type": "code",
   "execution_count": 12,
   "id": "empty-height",
   "metadata": {
    "execution": {
     "iopub.execute_input": "2021-05-30T15:12:47.364093Z",
     "iopub.status.busy": "2021-05-30T15:12:47.363098Z",
     "iopub.status.idle": "2021-05-30T15:12:47.369126Z",
     "shell.execute_reply": "2021-05-30T15:12:47.369573Z",
     "shell.execute_reply.started": "2021-05-30T15:02:23.440844Z"
    },
    "papermill": {
     "duration": 0.085557,
     "end_time": "2021-05-30T15:12:47.369775",
     "exception": false,
     "start_time": "2021-05-30T15:12:47.284218",
     "status": "completed"
    },
    "tags": []
   },
   "outputs": [],
   "source": [
    "X=df_car.drop(columns=[\"price\"])\n",
    "y=df_car[\"price\"]"
   ]
  },
  {
   "cell_type": "markdown",
   "id": "romance-jacket",
   "metadata": {
    "papermill": {
     "duration": 0.075074,
     "end_time": "2021-05-30T15:12:47.519978",
     "exception": false,
     "start_time": "2021-05-30T15:12:47.444904",
     "status": "completed"
    },
    "tags": []
   },
   "source": [
    "Specify two empty lists **cat_col** & **num_col** to store **categorical** and **numerical** columns respectively"
   ]
  },
  {
   "cell_type": "code",
   "execution_count": 13,
   "id": "drawn-armstrong",
   "metadata": {
    "execution": {
     "iopub.execute_input": "2021-05-30T15:12:47.675346Z",
     "iopub.status.busy": "2021-05-30T15:12:47.674357Z",
     "iopub.status.idle": "2021-05-30T15:12:47.680606Z",
     "shell.execute_reply": "2021-05-30T15:12:47.681080Z",
     "shell.execute_reply.started": "2021-05-30T15:02:23.792568Z"
    },
    "papermill": {
     "duration": 0.085661,
     "end_time": "2021-05-30T15:12:47.681288",
     "exception": false,
     "start_time": "2021-05-30T15:12:47.595627",
     "status": "completed"
    },
    "tags": []
   },
   "outputs": [],
   "source": [
    "cat_col=[]#will store categorical features\n",
    "num_col=[]#will store numerical features\n",
    "\n",
    "#iterating thourgh all columns in X\n",
    "for col in X:\n",
    "    #append the features whose datatype is object in cat_col\n",
    "    if df_car[col].dtype==\"O\":\n",
    "        cat_col.append(col)\n",
    "    #append those features whose datatype is other than object in num_col    \n",
    "    else:\n",
    "        num_col.append(col)"
   ]
  },
  {
   "cell_type": "markdown",
   "id": "right-communications",
   "metadata": {
    "papermill": {
     "duration": 0.076495,
     "end_time": "2021-05-30T15:12:47.833205",
     "exception": false,
     "start_time": "2021-05-30T15:12:47.756710",
     "status": "completed"
    },
    "tags": []
   },
   "source": [
    "Create dataFrames **df_cat** & **df_num** to store the features with datatypes **object** and **numerical** respectively"
   ]
  },
  {
   "cell_type": "markdown",
   "id": "strange-drink",
   "metadata": {
    "papermill": {
     "duration": 0.076069,
     "end_time": "2021-05-30T15:12:47.987182",
     "exception": false,
     "start_time": "2021-05-30T15:12:47.911113",
     "status": "completed"
    },
    "tags": []
   },
   "source": [
    "By dividing the dataframe into **numerical** & **categorical** features seperately, it will allow an ease handling of numerical and categorical features in their respective dataframes."
   ]
  },
  {
   "cell_type": "markdown",
   "id": "administrative-brass",
   "metadata": {
    "papermill": {
     "duration": 0.077124,
     "end_time": "2021-05-30T15:12:48.142595",
     "exception": false,
     "start_time": "2021-05-30T15:12:48.065471",
     "status": "completed"
    },
    "tags": []
   },
   "source": []
  },
  {
   "cell_type": "code",
   "execution_count": 14,
   "id": "alpine-remains",
   "metadata": {
    "execution": {
     "iopub.execute_input": "2021-05-30T15:12:48.301987Z",
     "iopub.status.busy": "2021-05-30T15:12:48.300958Z",
     "iopub.status.idle": "2021-05-30T15:12:48.308336Z",
     "shell.execute_reply": "2021-05-30T15:12:48.307667Z",
     "shell.execute_reply.started": "2021-05-30T15:02:24.422405Z"
    },
    "papermill": {
     "duration": 0.089146,
     "end_time": "2021-05-30T15:12:48.308549",
     "exception": false,
     "start_time": "2021-05-30T15:12:48.219403",
     "status": "completed"
    },
    "tags": []
   },
   "outputs": [],
   "source": [
    "#dataframe to store the categorical features\n",
    "df_cat=pd.DataFrame(\n",
    "    data=df_car,\n",
    "    #we will use the column names from the cat_col list\n",
    "    columns=cat_col\n",
    ")\n",
    "\n",
    "#dataframe to store the categorical features\n",
    "df_num=pd.DataFrame(\n",
    "    data=df_car,\n",
    "    #we will use the column names from the num_col list\n",
    "    columns=num_col\n",
    ")"
   ]
  },
  {
   "cell_type": "markdown",
   "id": "packed-preservation",
   "metadata": {
    "papermill": {
     "duration": 0.077227,
     "end_time": "2021-05-30T15:12:48.461644",
     "exception": false,
     "start_time": "2021-05-30T15:12:48.384417",
     "status": "completed"
    },
    "tags": []
   },
   "source": [
    "Display head of Dataframe with numerical features"
   ]
  },
  {
   "cell_type": "code",
   "execution_count": 15,
   "id": "australian-guyana",
   "metadata": {
    "execution": {
     "iopub.execute_input": "2021-05-30T15:12:48.634666Z",
     "iopub.status.busy": "2021-05-30T15:12:48.627716Z",
     "iopub.status.idle": "2021-05-30T15:12:48.641790Z",
     "shell.execute_reply": "2021-05-30T15:12:48.641140Z",
     "shell.execute_reply.started": "2021-05-30T15:02:24.753046Z"
    },
    "papermill": {
     "duration": 0.10345,
     "end_time": "2021-05-30T15:12:48.641975",
     "exception": false,
     "start_time": "2021-05-30T15:12:48.538525",
     "status": "completed"
    },
    "tags": []
   },
   "outputs": [
    {
     "data": {
      "text/html": [
       "<div>\n",
       "<style scoped>\n",
       "    .dataframe tbody tr th:only-of-type {\n",
       "        vertical-align: middle;\n",
       "    }\n",
       "\n",
       "    .dataframe tbody tr th {\n",
       "        vertical-align: top;\n",
       "    }\n",
       "\n",
       "    .dataframe thead th {\n",
       "        text-align: right;\n",
       "    }\n",
       "</style>\n",
       "<table border=\"1\" class=\"dataframe\">\n",
       "  <thead>\n",
       "    <tr style=\"text-align: right;\">\n",
       "      <th></th>\n",
       "      <th>symboling</th>\n",
       "      <th>wheelbase</th>\n",
       "      <th>carlength</th>\n",
       "      <th>carwidth</th>\n",
       "      <th>carheight</th>\n",
       "      <th>curbweight</th>\n",
       "      <th>enginesize</th>\n",
       "      <th>boreratio</th>\n",
       "      <th>stroke</th>\n",
       "      <th>compressionratio</th>\n",
       "      <th>horsepower</th>\n",
       "      <th>peakrpm</th>\n",
       "      <th>citympg</th>\n",
       "      <th>highwaympg</th>\n",
       "    </tr>\n",
       "  </thead>\n",
       "  <tbody>\n",
       "    <tr>\n",
       "      <th>0</th>\n",
       "      <td>3</td>\n",
       "      <td>88.6</td>\n",
       "      <td>168.8</td>\n",
       "      <td>64.1</td>\n",
       "      <td>48.8</td>\n",
       "      <td>2548</td>\n",
       "      <td>130</td>\n",
       "      <td>3.47</td>\n",
       "      <td>2.68</td>\n",
       "      <td>9.0</td>\n",
       "      <td>111</td>\n",
       "      <td>5000</td>\n",
       "      <td>21</td>\n",
       "      <td>27</td>\n",
       "    </tr>\n",
       "    <tr>\n",
       "      <th>1</th>\n",
       "      <td>3</td>\n",
       "      <td>88.6</td>\n",
       "      <td>168.8</td>\n",
       "      <td>64.1</td>\n",
       "      <td>48.8</td>\n",
       "      <td>2548</td>\n",
       "      <td>130</td>\n",
       "      <td>3.47</td>\n",
       "      <td>2.68</td>\n",
       "      <td>9.0</td>\n",
       "      <td>111</td>\n",
       "      <td>5000</td>\n",
       "      <td>21</td>\n",
       "      <td>27</td>\n",
       "    </tr>\n",
       "    <tr>\n",
       "      <th>2</th>\n",
       "      <td>1</td>\n",
       "      <td>94.5</td>\n",
       "      <td>171.2</td>\n",
       "      <td>65.5</td>\n",
       "      <td>52.4</td>\n",
       "      <td>2823</td>\n",
       "      <td>152</td>\n",
       "      <td>2.68</td>\n",
       "      <td>3.47</td>\n",
       "      <td>9.0</td>\n",
       "      <td>154</td>\n",
       "      <td>5000</td>\n",
       "      <td>19</td>\n",
       "      <td>26</td>\n",
       "    </tr>\n",
       "    <tr>\n",
       "      <th>3</th>\n",
       "      <td>2</td>\n",
       "      <td>99.8</td>\n",
       "      <td>176.6</td>\n",
       "      <td>66.2</td>\n",
       "      <td>54.3</td>\n",
       "      <td>2337</td>\n",
       "      <td>109</td>\n",
       "      <td>3.19</td>\n",
       "      <td>3.40</td>\n",
       "      <td>10.0</td>\n",
       "      <td>102</td>\n",
       "      <td>5500</td>\n",
       "      <td>24</td>\n",
       "      <td>30</td>\n",
       "    </tr>\n",
       "    <tr>\n",
       "      <th>4</th>\n",
       "      <td>2</td>\n",
       "      <td>99.4</td>\n",
       "      <td>176.6</td>\n",
       "      <td>66.4</td>\n",
       "      <td>54.3</td>\n",
       "      <td>2824</td>\n",
       "      <td>136</td>\n",
       "      <td>3.19</td>\n",
       "      <td>3.40</td>\n",
       "      <td>8.0</td>\n",
       "      <td>115</td>\n",
       "      <td>5500</td>\n",
       "      <td>18</td>\n",
       "      <td>22</td>\n",
       "    </tr>\n",
       "  </tbody>\n",
       "</table>\n",
       "</div>"
      ],
      "text/plain": [
       "   symboling  wheelbase  carlength  carwidth  carheight  curbweight  \\\n",
       "0          3       88.6      168.8      64.1       48.8        2548   \n",
       "1          3       88.6      168.8      64.1       48.8        2548   \n",
       "2          1       94.5      171.2      65.5       52.4        2823   \n",
       "3          2       99.8      176.6      66.2       54.3        2337   \n",
       "4          2       99.4      176.6      66.4       54.3        2824   \n",
       "\n",
       "   enginesize  boreratio  stroke  compressionratio  horsepower  peakrpm  \\\n",
       "0         130       3.47    2.68               9.0         111     5000   \n",
       "1         130       3.47    2.68               9.0         111     5000   \n",
       "2         152       2.68    3.47               9.0         154     5000   \n",
       "3         109       3.19    3.40              10.0         102     5500   \n",
       "4         136       3.19    3.40               8.0         115     5500   \n",
       "\n",
       "   citympg  highwaympg  \n",
       "0       21          27  \n",
       "1       21          27  \n",
       "2       19          26  \n",
       "3       24          30  \n",
       "4       18          22  "
      ]
     },
     "execution_count": 15,
     "metadata": {},
     "output_type": "execute_result"
    }
   ],
   "source": [
    "df_num.head()"
   ]
  },
  {
   "cell_type": "markdown",
   "id": "distinct-munich",
   "metadata": {
    "papermill": {
     "duration": 0.077132,
     "end_time": "2021-05-30T15:12:48.795554",
     "exception": false,
     "start_time": "2021-05-30T15:12:48.718422",
     "status": "completed"
    },
    "tags": []
   },
   "source": [
    "Display head of Dataframe with categorical features"
   ]
  },
  {
   "cell_type": "code",
   "execution_count": 16,
   "id": "suffering-crawford",
   "metadata": {
    "execution": {
     "iopub.execute_input": "2021-05-30T15:12:48.969467Z",
     "iopub.status.busy": "2021-05-30T15:12:48.968773Z",
     "iopub.status.idle": "2021-05-30T15:12:48.974433Z",
     "shell.execute_reply": "2021-05-30T15:12:48.974930Z",
     "shell.execute_reply.started": "2021-05-30T15:02:25.086493Z"
    },
    "papermill": {
     "duration": 0.102834,
     "end_time": "2021-05-30T15:12:48.975137",
     "exception": false,
     "start_time": "2021-05-30T15:12:48.872303",
     "status": "completed"
    },
    "tags": []
   },
   "outputs": [
    {
     "data": {
      "text/html": [
       "<div>\n",
       "<style scoped>\n",
       "    .dataframe tbody tr th:only-of-type {\n",
       "        vertical-align: middle;\n",
       "    }\n",
       "\n",
       "    .dataframe tbody tr th {\n",
       "        vertical-align: top;\n",
       "    }\n",
       "\n",
       "    .dataframe thead th {\n",
       "        text-align: right;\n",
       "    }\n",
       "</style>\n",
       "<table border=\"1\" class=\"dataframe\">\n",
       "  <thead>\n",
       "    <tr style=\"text-align: right;\">\n",
       "      <th></th>\n",
       "      <th>fueltype</th>\n",
       "      <th>aspiration</th>\n",
       "      <th>doornumber</th>\n",
       "      <th>carbody</th>\n",
       "      <th>drivewheel</th>\n",
       "      <th>enginelocation</th>\n",
       "      <th>enginetype</th>\n",
       "      <th>cylindernumber</th>\n",
       "      <th>fuelsystem</th>\n",
       "    </tr>\n",
       "  </thead>\n",
       "  <tbody>\n",
       "    <tr>\n",
       "      <th>0</th>\n",
       "      <td>gas</td>\n",
       "      <td>std</td>\n",
       "      <td>two</td>\n",
       "      <td>convertible</td>\n",
       "      <td>rwd</td>\n",
       "      <td>front</td>\n",
       "      <td>dohc</td>\n",
       "      <td>four</td>\n",
       "      <td>mpfi</td>\n",
       "    </tr>\n",
       "    <tr>\n",
       "      <th>1</th>\n",
       "      <td>gas</td>\n",
       "      <td>std</td>\n",
       "      <td>two</td>\n",
       "      <td>convertible</td>\n",
       "      <td>rwd</td>\n",
       "      <td>front</td>\n",
       "      <td>dohc</td>\n",
       "      <td>four</td>\n",
       "      <td>mpfi</td>\n",
       "    </tr>\n",
       "    <tr>\n",
       "      <th>2</th>\n",
       "      <td>gas</td>\n",
       "      <td>std</td>\n",
       "      <td>two</td>\n",
       "      <td>hatchback</td>\n",
       "      <td>rwd</td>\n",
       "      <td>front</td>\n",
       "      <td>ohcv</td>\n",
       "      <td>six</td>\n",
       "      <td>mpfi</td>\n",
       "    </tr>\n",
       "    <tr>\n",
       "      <th>3</th>\n",
       "      <td>gas</td>\n",
       "      <td>std</td>\n",
       "      <td>four</td>\n",
       "      <td>sedan</td>\n",
       "      <td>fwd</td>\n",
       "      <td>front</td>\n",
       "      <td>ohc</td>\n",
       "      <td>four</td>\n",
       "      <td>mpfi</td>\n",
       "    </tr>\n",
       "    <tr>\n",
       "      <th>4</th>\n",
       "      <td>gas</td>\n",
       "      <td>std</td>\n",
       "      <td>four</td>\n",
       "      <td>sedan</td>\n",
       "      <td>4wd</td>\n",
       "      <td>front</td>\n",
       "      <td>ohc</td>\n",
       "      <td>five</td>\n",
       "      <td>mpfi</td>\n",
       "    </tr>\n",
       "  </tbody>\n",
       "</table>\n",
       "</div>"
      ],
      "text/plain": [
       "  fueltype aspiration doornumber      carbody drivewheel enginelocation  \\\n",
       "0      gas        std        two  convertible        rwd          front   \n",
       "1      gas        std        two  convertible        rwd          front   \n",
       "2      gas        std        two    hatchback        rwd          front   \n",
       "3      gas        std       four        sedan        fwd          front   \n",
       "4      gas        std       four        sedan        4wd          front   \n",
       "\n",
       "  enginetype cylindernumber fuelsystem  \n",
       "0       dohc           four       mpfi  \n",
       "1       dohc           four       mpfi  \n",
       "2       ohcv            six       mpfi  \n",
       "3        ohc           four       mpfi  \n",
       "4        ohc           five       mpfi  "
      ]
     },
     "execution_count": 16,
     "metadata": {},
     "output_type": "execute_result"
    }
   ],
   "source": [
    "df_cat.head()"
   ]
  },
  {
   "cell_type": "markdown",
   "id": "convertible-discretion",
   "metadata": {
    "papermill": {
     "duration": 0.0776,
     "end_time": "2021-05-30T15:12:49.129685",
     "exception": false,
     "start_time": "2021-05-30T15:12:49.052085",
     "status": "completed"
    },
    "tags": []
   },
   "source": [
    "Print the **labels** of each columns in **df_cat**"
   ]
  },
  {
   "cell_type": "markdown",
   "id": "annual-madison",
   "metadata": {
    "papermill": {
     "duration": 0.077425,
     "end_time": "2021-05-30T15:12:49.284283",
     "exception": false,
     "start_time": "2021-05-30T15:12:49.206858",
     "status": "completed"
    },
    "tags": []
   },
   "source": []
  },
  {
   "cell_type": "code",
   "execution_count": 17,
   "id": "cooperative-plain",
   "metadata": {
    "execution": {
     "iopub.execute_input": "2021-05-30T15:12:49.441473Z",
     "iopub.status.busy": "2021-05-30T15:12:49.440514Z",
     "iopub.status.idle": "2021-05-30T15:12:49.453688Z",
     "shell.execute_reply": "2021-05-30T15:12:49.454244Z",
     "shell.execute_reply.started": "2021-05-30T15:02:25.681438Z"
    },
    "papermill": {
     "duration": 0.093839,
     "end_time": "2021-05-30T15:12:49.454440",
     "exception": false,
     "start_time": "2021-05-30T15:12:49.360601",
     "status": "completed"
    },
    "tags": []
   },
   "outputs": [
    {
     "name": "stdout",
     "output_type": "stream",
     "text": [
      "fueltype  contains : 2  labels\n",
      "aspiration  contains : 2  labels\n",
      "doornumber  contains : 2  labels\n",
      "carbody  contains : 5  labels\n",
      "drivewheel  contains : 3  labels\n",
      "enginelocation  contains : 2  labels\n",
      "enginetype  contains : 7  labels\n",
      "cylindernumber  contains : 7  labels\n",
      "fuelsystem  contains : 8  labels\n"
     ]
    }
   ],
   "source": [
    "for cols in df_cat:\n",
    "    print(cols,\" contains :\",df_cat[cols].nunique(),\" labels\")"
   ]
  },
  {
   "cell_type": "markdown",
   "id": "exempt-springer",
   "metadata": {
    "papermill": {
     "duration": 0.07682,
     "end_time": "2021-05-30T15:12:49.608174",
     "exception": false,
     "start_time": "2021-05-30T15:12:49.531354",
     "status": "completed"
    },
    "tags": []
   },
   "source": [
    "Since the dataset does not contain any null values hence the df_num & df_cat will also have no null values, however we are intrested in df_cat whose datatype is object.\n",
    "\n",
    "To feed our data to the Machine Learning Models the data values must be converted into numerical values.\n",
    "\n"
   ]
  },
  {
   "cell_type": "markdown",
   "id": "later-condition",
   "metadata": {
    "papermill": {
     "duration": 0.080744,
     "end_time": "2021-05-30T15:12:49.766015",
     "exception": false,
     "start_time": "2021-05-30T15:12:49.685271",
     "status": "completed"
    },
    "tags": []
   },
   "source": [
    "Perform **one-hot encoding** to the categorical features, using **pd.get_dummies()**\n",
    "\n"
   ]
  },
  {
   "cell_type": "markdown",
   "id": "together-depth",
   "metadata": {
    "papermill": {
     "duration": 0.077812,
     "end_time": "2021-05-30T15:12:49.920503",
     "exception": false,
     "start_time": "2021-05-30T15:12:49.842691",
     "status": "completed"
    },
    "tags": []
   },
   "source": []
  },
  {
   "cell_type": "code",
   "execution_count": 18,
   "id": "banner-background",
   "metadata": {
    "execution": {
     "iopub.execute_input": "2021-05-30T15:12:50.082068Z",
     "iopub.status.busy": "2021-05-30T15:12:50.081102Z",
     "iopub.status.idle": "2021-05-30T15:12:50.098583Z",
     "shell.execute_reply": "2021-05-30T15:12:50.099113Z",
     "shell.execute_reply.started": "2021-05-30T15:02:26.349405Z"
    },
    "papermill": {
     "duration": 0.100593,
     "end_time": "2021-05-30T15:12:50.099336",
     "exception": false,
     "start_time": "2021-05-30T15:12:49.998743",
     "status": "completed"
    },
    "tags": []
   },
   "outputs": [],
   "source": [
    "df_cat=pd.get_dummies(\n",
    "    data=df_cat,\n",
    "    drop_first=True\n",
    ")"
   ]
  },
  {
   "cell_type": "markdown",
   "id": "practical-wisconsin",
   "metadata": {
    "papermill": {
     "duration": 0.080864,
     "end_time": "2021-05-30T15:12:50.258874",
     "exception": false,
     "start_time": "2021-05-30T15:12:50.178010",
     "status": "completed"
    },
    "tags": []
   },
   "source": [
    "Display the head of **one-hot encoded** dataframe"
   ]
  },
  {
   "cell_type": "code",
   "execution_count": 19,
   "id": "accompanied-footage",
   "metadata": {
    "execution": {
     "iopub.execute_input": "2021-05-30T15:12:50.417855Z",
     "iopub.status.busy": "2021-05-30T15:12:50.416864Z",
     "iopub.status.idle": "2021-05-30T15:12:50.438449Z",
     "shell.execute_reply": "2021-05-30T15:12:50.438999Z",
     "shell.execute_reply.started": "2021-05-30T15:02:26.639545Z"
    },
    "papermill": {
     "duration": 0.103183,
     "end_time": "2021-05-30T15:12:50.439212",
     "exception": false,
     "start_time": "2021-05-30T15:12:50.336029",
     "status": "completed"
    },
    "tags": []
   },
   "outputs": [
    {
     "data": {
      "text/html": [
       "<div>\n",
       "<style scoped>\n",
       "    .dataframe tbody tr th:only-of-type {\n",
       "        vertical-align: middle;\n",
       "    }\n",
       "\n",
       "    .dataframe tbody tr th {\n",
       "        vertical-align: top;\n",
       "    }\n",
       "\n",
       "    .dataframe thead th {\n",
       "        text-align: right;\n",
       "    }\n",
       "</style>\n",
       "<table border=\"1\" class=\"dataframe\">\n",
       "  <thead>\n",
       "    <tr style=\"text-align: right;\">\n",
       "      <th></th>\n",
       "      <th>fueltype_gas</th>\n",
       "      <th>aspiration_turbo</th>\n",
       "      <th>doornumber_two</th>\n",
       "      <th>carbody_hardtop</th>\n",
       "      <th>carbody_hatchback</th>\n",
       "      <th>carbody_sedan</th>\n",
       "      <th>carbody_wagon</th>\n",
       "      <th>drivewheel_fwd</th>\n",
       "      <th>drivewheel_rwd</th>\n",
       "      <th>enginelocation_rear</th>\n",
       "      <th>...</th>\n",
       "      <th>cylindernumber_three</th>\n",
       "      <th>cylindernumber_twelve</th>\n",
       "      <th>cylindernumber_two</th>\n",
       "      <th>fuelsystem_2bbl</th>\n",
       "      <th>fuelsystem_4bbl</th>\n",
       "      <th>fuelsystem_idi</th>\n",
       "      <th>fuelsystem_mfi</th>\n",
       "      <th>fuelsystem_mpfi</th>\n",
       "      <th>fuelsystem_spdi</th>\n",
       "      <th>fuelsystem_spfi</th>\n",
       "    </tr>\n",
       "  </thead>\n",
       "  <tbody>\n",
       "    <tr>\n",
       "      <th>0</th>\n",
       "      <td>1</td>\n",
       "      <td>0</td>\n",
       "      <td>1</td>\n",
       "      <td>0</td>\n",
       "      <td>0</td>\n",
       "      <td>0</td>\n",
       "      <td>0</td>\n",
       "      <td>0</td>\n",
       "      <td>1</td>\n",
       "      <td>0</td>\n",
       "      <td>...</td>\n",
       "      <td>0</td>\n",
       "      <td>0</td>\n",
       "      <td>0</td>\n",
       "      <td>0</td>\n",
       "      <td>0</td>\n",
       "      <td>0</td>\n",
       "      <td>0</td>\n",
       "      <td>1</td>\n",
       "      <td>0</td>\n",
       "      <td>0</td>\n",
       "    </tr>\n",
       "    <tr>\n",
       "      <th>1</th>\n",
       "      <td>1</td>\n",
       "      <td>0</td>\n",
       "      <td>1</td>\n",
       "      <td>0</td>\n",
       "      <td>0</td>\n",
       "      <td>0</td>\n",
       "      <td>0</td>\n",
       "      <td>0</td>\n",
       "      <td>1</td>\n",
       "      <td>0</td>\n",
       "      <td>...</td>\n",
       "      <td>0</td>\n",
       "      <td>0</td>\n",
       "      <td>0</td>\n",
       "      <td>0</td>\n",
       "      <td>0</td>\n",
       "      <td>0</td>\n",
       "      <td>0</td>\n",
       "      <td>1</td>\n",
       "      <td>0</td>\n",
       "      <td>0</td>\n",
       "    </tr>\n",
       "    <tr>\n",
       "      <th>2</th>\n",
       "      <td>1</td>\n",
       "      <td>0</td>\n",
       "      <td>1</td>\n",
       "      <td>0</td>\n",
       "      <td>1</td>\n",
       "      <td>0</td>\n",
       "      <td>0</td>\n",
       "      <td>0</td>\n",
       "      <td>1</td>\n",
       "      <td>0</td>\n",
       "      <td>...</td>\n",
       "      <td>0</td>\n",
       "      <td>0</td>\n",
       "      <td>0</td>\n",
       "      <td>0</td>\n",
       "      <td>0</td>\n",
       "      <td>0</td>\n",
       "      <td>0</td>\n",
       "      <td>1</td>\n",
       "      <td>0</td>\n",
       "      <td>0</td>\n",
       "    </tr>\n",
       "    <tr>\n",
       "      <th>3</th>\n",
       "      <td>1</td>\n",
       "      <td>0</td>\n",
       "      <td>0</td>\n",
       "      <td>0</td>\n",
       "      <td>0</td>\n",
       "      <td>1</td>\n",
       "      <td>0</td>\n",
       "      <td>1</td>\n",
       "      <td>0</td>\n",
       "      <td>0</td>\n",
       "      <td>...</td>\n",
       "      <td>0</td>\n",
       "      <td>0</td>\n",
       "      <td>0</td>\n",
       "      <td>0</td>\n",
       "      <td>0</td>\n",
       "      <td>0</td>\n",
       "      <td>0</td>\n",
       "      <td>1</td>\n",
       "      <td>0</td>\n",
       "      <td>0</td>\n",
       "    </tr>\n",
       "    <tr>\n",
       "      <th>4</th>\n",
       "      <td>1</td>\n",
       "      <td>0</td>\n",
       "      <td>0</td>\n",
       "      <td>0</td>\n",
       "      <td>0</td>\n",
       "      <td>1</td>\n",
       "      <td>0</td>\n",
       "      <td>0</td>\n",
       "      <td>0</td>\n",
       "      <td>0</td>\n",
       "      <td>...</td>\n",
       "      <td>0</td>\n",
       "      <td>0</td>\n",
       "      <td>0</td>\n",
       "      <td>0</td>\n",
       "      <td>0</td>\n",
       "      <td>0</td>\n",
       "      <td>0</td>\n",
       "      <td>1</td>\n",
       "      <td>0</td>\n",
       "      <td>0</td>\n",
       "    </tr>\n",
       "  </tbody>\n",
       "</table>\n",
       "<p>5 rows × 29 columns</p>\n",
       "</div>"
      ],
      "text/plain": [
       "   fueltype_gas  aspiration_turbo  doornumber_two  carbody_hardtop  \\\n",
       "0             1                 0               1                0   \n",
       "1             1                 0               1                0   \n",
       "2             1                 0               1                0   \n",
       "3             1                 0               0                0   \n",
       "4             1                 0               0                0   \n",
       "\n",
       "   carbody_hatchback  carbody_sedan  carbody_wagon  drivewheel_fwd  \\\n",
       "0                  0              0              0               0   \n",
       "1                  0              0              0               0   \n",
       "2                  1              0              0               0   \n",
       "3                  0              1              0               1   \n",
       "4                  0              1              0               0   \n",
       "\n",
       "   drivewheel_rwd  enginelocation_rear  ...  cylindernumber_three  \\\n",
       "0               1                    0  ...                     0   \n",
       "1               1                    0  ...                     0   \n",
       "2               1                    0  ...                     0   \n",
       "3               0                    0  ...                     0   \n",
       "4               0                    0  ...                     0   \n",
       "\n",
       "   cylindernumber_twelve  cylindernumber_two  fuelsystem_2bbl  \\\n",
       "0                      0                   0                0   \n",
       "1                      0                   0                0   \n",
       "2                      0                   0                0   \n",
       "3                      0                   0                0   \n",
       "4                      0                   0                0   \n",
       "\n",
       "   fuelsystem_4bbl  fuelsystem_idi  fuelsystem_mfi  fuelsystem_mpfi  \\\n",
       "0                0               0               0                1   \n",
       "1                0               0               0                1   \n",
       "2                0               0               0                1   \n",
       "3                0               0               0                1   \n",
       "4                0               0               0                1   \n",
       "\n",
       "   fuelsystem_spdi  fuelsystem_spfi  \n",
       "0                0                0  \n",
       "1                0                0  \n",
       "2                0                0  \n",
       "3                0                0  \n",
       "4                0                0  \n",
       "\n",
       "[5 rows x 29 columns]"
      ]
     },
     "execution_count": 19,
     "metadata": {},
     "output_type": "execute_result"
    }
   ],
   "source": [
    "df_cat.head()"
   ]
  },
  {
   "cell_type": "markdown",
   "id": "associate-treasure",
   "metadata": {
    "papermill": {
     "duration": 0.077858,
     "end_time": "2021-05-30T15:12:50.596100",
     "exception": false,
     "start_time": "2021-05-30T15:12:50.518242",
     "status": "completed"
    },
    "tags": []
   },
   "source": [
    "Now we have converted categorical features into **numerical** values by perfoming **one-hot** encoding & now we have all the features on both **df_num** & **df_cat** in numerical form so we **concatenate** them to get the final desired dataframe."
   ]
  },
  {
   "cell_type": "code",
   "execution_count": 20,
   "id": "vocational-recycling",
   "metadata": {
    "execution": {
     "iopub.execute_input": "2021-05-30T15:12:50.759153Z",
     "iopub.status.busy": "2021-05-30T15:12:50.758435Z",
     "iopub.status.idle": "2021-05-30T15:12:50.764887Z",
     "shell.execute_reply": "2021-05-30T15:12:50.765357Z",
     "shell.execute_reply.started": "2021-05-30T15:02:27.006029Z"
    },
    "papermill": {
     "duration": 0.090499,
     "end_time": "2021-05-30T15:12:50.765577",
     "exception": false,
     "start_time": "2021-05-30T15:12:50.675078",
     "status": "completed"
    },
    "tags": []
   },
   "outputs": [],
   "source": [
    "car_final=pd.concat(\n",
    "    [df_num,df_cat,y],\n",
    "    axis=1\n",
    ")"
   ]
  },
  {
   "cell_type": "markdown",
   "id": "brilliant-african",
   "metadata": {
    "papermill": {
     "duration": 0.078206,
     "end_time": "2021-05-30T15:12:50.922697",
     "exception": false,
     "start_time": "2021-05-30T15:12:50.844491",
     "status": "completed"
    },
    "tags": []
   },
   "source": [
    "Split the data into **dependent(y)** and **independent(X)** variables"
   ]
  },
  {
   "cell_type": "code",
   "execution_count": 21,
   "id": "realistic-minneapolis",
   "metadata": {
    "execution": {
     "iopub.execute_input": "2021-05-30T15:12:51.085417Z",
     "iopub.status.busy": "2021-05-30T15:12:51.084717Z",
     "iopub.status.idle": "2021-05-30T15:12:51.090909Z",
     "shell.execute_reply": "2021-05-30T15:12:51.091416Z",
     "shell.execute_reply.started": "2021-05-30T15:02:27.507638Z"
    },
    "papermill": {
     "duration": 0.089208,
     "end_time": "2021-05-30T15:12:51.091650",
     "exception": false,
     "start_time": "2021-05-30T15:12:51.002442",
     "status": "completed"
    },
    "tags": []
   },
   "outputs": [],
   "source": [
    "X=car_final.drop(\"price\",\n",
    "                axis=1)\n",
    "y=car_final[\"price\"]"
   ]
  },
  {
   "cell_type": "markdown",
   "id": "hired-percentage",
   "metadata": {
    "papermill": {
     "duration": 0.078226,
     "end_time": "2021-05-30T15:12:51.248525",
     "exception": false,
     "start_time": "2021-05-30T15:12:51.170299",
     "status": "completed"
    },
    "tags": []
   },
   "source": [
    "Split the data into **training** and **testing** data, with **test data** of size of **20%** of total dataset."
   ]
  },
  {
   "cell_type": "code",
   "execution_count": 22,
   "id": "honey-trial",
   "metadata": {
    "execution": {
     "iopub.execute_input": "2021-05-30T15:12:51.409069Z",
     "iopub.status.busy": "2021-05-30T15:12:51.408077Z",
     "iopub.status.idle": "2021-05-30T15:12:51.418380Z",
     "shell.execute_reply": "2021-05-30T15:12:51.417719Z",
     "shell.execute_reply.started": "2021-05-30T15:02:27.712338Z"
    },
    "papermill": {
     "duration": 0.091861,
     "end_time": "2021-05-30T15:12:51.418547",
     "exception": false,
     "start_time": "2021-05-30T15:12:51.326686",
     "status": "completed"
    },
    "tags": []
   },
   "outputs": [],
   "source": [
    "X_train,X_test,y_train,y_test=train_test_split(\n",
    "    X,\n",
    "    y,\n",
    "    random_state=42,\n",
    "    test_size=0.2\n",
    ")"
   ]
  },
  {
   "cell_type": "markdown",
   "id": "tamil-loading",
   "metadata": {
    "papermill": {
     "duration": 0.150433,
     "end_time": "2021-05-30T15:12:51.648577",
     "exception": false,
     "start_time": "2021-05-30T15:12:51.498144",
     "status": "completed"
    },
    "tags": []
   },
   "source": [
    "Perform preprocessing on the **X_train** and **X_test** using **StandardScaler()**\n",
    "\n",
    "It will scale the data values in such a way that the **mean is zero** and a **variance of one**"
   ]
  },
  {
   "cell_type": "code",
   "execution_count": 23,
   "id": "fancy-therapy",
   "metadata": {
    "execution": {
     "iopub.execute_input": "2021-05-30T15:12:51.816470Z",
     "iopub.status.busy": "2021-05-30T15:12:51.815704Z",
     "iopub.status.idle": "2021-05-30T15:12:51.825749Z",
     "shell.execute_reply": "2021-05-30T15:12:51.824996Z",
     "shell.execute_reply.started": "2021-05-30T15:02:28.290321Z"
    },
    "papermill": {
     "duration": 0.096625,
     "end_time": "2021-05-30T15:12:51.825934",
     "exception": false,
     "start_time": "2021-05-30T15:12:51.729309",
     "status": "completed"
    },
    "tags": []
   },
   "outputs": [],
   "source": [
    "scaler=StandardScaler()\n",
    "\n",
    "X_train_scaled=scaler.fit_transform(X_train)\n",
    "X_test_scaled=scaler.transform(X_test)"
   ]
  },
  {
   "cell_type": "markdown",
   "id": "imposed-maker",
   "metadata": {
    "papermill": {
     "duration": 0.081755,
     "end_time": "2021-05-30T15:12:51.987324",
     "exception": false,
     "start_time": "2021-05-30T15:12:51.905569",
     "status": "completed"
    },
    "tags": []
   },
   "source": [
    "Since I am comparing three linear models namely **LinearRegression() Ridge() & Lasso()**, I will have to write the same codes again and again for individual linear models so I have used **functions** that would perform the same job for all three regression models to **ease** and **shorten** my work"
   ]
  },
  {
   "cell_type": "markdown",
   "id": "unknown-payday",
   "metadata": {
    "papermill": {
     "duration": 0.078567,
     "end_time": "2021-05-30T15:12:52.144967",
     "exception": false,
     "start_time": "2021-05-30T15:12:52.066400",
     "status": "completed"
    },
    "tags": []
   },
   "source": [
    "The function is used to fit the models in given linear model and return **training** and **testing** **scores**\n",
    "\n"
   ]
  },
  {
   "cell_type": "code",
   "execution_count": 24,
   "id": "humanitarian-watts",
   "metadata": {
    "execution": {
     "iopub.execute_input": "2021-05-30T15:12:52.309409Z",
     "iopub.status.busy": "2021-05-30T15:12:52.308671Z",
     "iopub.status.idle": "2021-05-30T15:12:52.312065Z",
     "shell.execute_reply": "2021-05-30T15:12:52.311374Z",
     "shell.execute_reply.started": "2021-05-30T15:02:29.012908Z"
    },
    "papermill": {
     "duration": 0.088425,
     "end_time": "2021-05-30T15:12:52.312233",
     "exception": false,
     "start_time": "2021-05-30T15:12:52.223808",
     "status": "completed"
    },
    "tags": []
   },
   "outputs": [],
   "source": [
    "#the function takes model, train & test split as an argument\n",
    "def fit_model_getScores(model,X_train,y_train,X_test,y_test):\n",
    "    #fit the model with training dataset\n",
    "    model.fit(X_train,y_train)\n",
    "    \n",
    "    #score the training data\n",
    "    train_score=model.score(X_train,y_train)\n",
    "    #score the test data\n",
    "    test_score=model.score(X_test,y_test)\n",
    "    \n",
    "    #Display the scores\n",
    "    print(\"Scores of {}\".format(model),\"\\n\")\n",
    "    print(\"Training Score:{:.2f}\".format(train_score))\n",
    "    print(\"Testing Score:{:.2f}\".format(test_score))"
   ]
  },
  {
   "cell_type": "markdown",
   "id": "ordered-newark",
   "metadata": {
    "papermill": {
     "duration": 0.077058,
     "end_time": "2021-05-30T15:12:52.467608",
     "exception": false,
     "start_time": "2021-05-30T15:12:52.390550",
     "status": "completed"
    },
    "tags": []
   },
   "source": [
    "The function given below will help return the **metrics** used for **evaluating linear models** & that includes **mse,mae,rmse,r2_score**"
   ]
  },
  {
   "cell_type": "markdown",
   "id": "julian-harmony",
   "metadata": {
    "papermill": {
     "duration": 0.077174,
     "end_time": "2021-05-30T15:12:52.622375",
     "exception": false,
     "start_time": "2021-05-30T15:12:52.545201",
     "status": "completed"
    },
    "tags": []
   },
   "source": []
  },
  {
   "cell_type": "code",
   "execution_count": 25,
   "id": "hybrid-israel",
   "metadata": {
    "execution": {
     "iopub.execute_input": "2021-05-30T15:12:52.810530Z",
     "iopub.status.busy": "2021-05-30T15:12:52.809739Z",
     "iopub.status.idle": "2021-05-30T15:12:52.815732Z",
     "shell.execute_reply": "2021-05-30T15:12:52.816321Z",
     "shell.execute_reply.started": "2021-05-30T15:02:29.665322Z"
    },
    "papermill": {
     "duration": 0.113831,
     "end_time": "2021-05-30T15:12:52.816558",
     "exception": false,
     "start_time": "2021-05-30T15:12:52.702727",
     "status": "completed"
    },
    "tags": []
   },
   "outputs": [],
   "source": [
    "#function takes model,and test data split as an argument \n",
    "def get_metrics(model,X_test,y_test):\n",
    "    #calculate the predicted value of y \n",
    "    y_pred=model.predict(X_test)\n",
    "    mse=mean_squared_error(y_test,y_pred)#mse\n",
    "    r2__score=r2_score(y_test,y_pred)#r2_score\n",
    "    mae=mean_absolute_error(y_test,y_pred)#mae\n",
    "    rmse=mean_squared_error(y_test,y_pred,squared=False)#rmse\n",
    "    \n",
    "    #print the metrics \n",
    "    print(\"The Metrics for {}:\".format(model))\n",
    "    print(\"----------------------------\")\n",
    "    print(\"Mean Squared Error:{:.2f}\".format(mse))\n",
    "    print(\"Root Mean Squared Error:{:.2f}\".format(rmse))\n",
    "    print(\"Mean Absolute Error:{:.2f}\".format(mae))\n",
    "    print(\"r2_score:{:.2f}\".format(r2__score))\n"
   ]
  },
  {
   "cell_type": "markdown",
   "id": "fabulous-onion",
   "metadata": {
    "papermill": {
     "duration": 0.079293,
     "end_time": "2021-05-30T15:12:52.974721",
     "exception": false,
     "start_time": "2021-05-30T15:12:52.895428",
     "status": "completed"
    },
    "tags": []
   },
   "source": [
    "This function will calculate the **coefficient** of a given **linear model** and will return the **series of coefficient** with **independent features(columns) as an index**.\n",
    "\n",
    "**Note**: In a linear model the **numbers(count) of coefficient** is always **equal** to **the number of independent features** present in the dataset "
   ]
  },
  {
   "cell_type": "code",
   "execution_count": 26,
   "id": "composed-breast",
   "metadata": {
    "execution": {
     "iopub.execute_input": "2021-05-30T15:12:53.137058Z",
     "iopub.status.busy": "2021-05-30T15:12:53.136350Z",
     "iopub.status.idle": "2021-05-30T15:12:53.141809Z",
     "shell.execute_reply": "2021-05-30T15:12:53.141279Z",
     "shell.execute_reply.started": "2021-05-30T15:02:29.917128Z"
    },
    "papermill": {
     "duration": 0.088366,
     "end_time": "2021-05-30T15:12:53.142011",
     "exception": false,
     "start_time": "2021-05-30T15:12:53.053645",
     "status": "completed"
    },
    "tags": []
   },
   "outputs": [],
   "source": [
    "#the function takes model and independent dataframe as an argument\n",
    "def return_coef_series(model,X):\n",
    "    #it will give the coefficeint pertaining to a specific linear model\n",
    "    coef=model.coef_\n",
    "    \n",
    "    #make a series out of coefficient with columns of X as an index \n",
    "    coef_series=pd.Series(\n",
    "        data=coef,\n",
    "        index=X.columns\n",
    "    )\n",
    "    \n",
    "    #return the series\n",
    "    return coef_series\n",
    "    "
   ]
  },
  {
   "cell_type": "markdown",
   "id": "imperial-projection",
   "metadata": {
    "papermill": {
     "duration": 0.078487,
     "end_time": "2021-05-30T15:12:53.298673",
     "exception": false,
     "start_time": "2021-05-30T15:12:53.220186",
     "status": "completed"
    },
    "tags": []
   },
   "source": [
    "The **plot_coef**() will help **visualize** the **coefficient** of a particular **linear model**"
   ]
  },
  {
   "cell_type": "code",
   "execution_count": 27,
   "id": "wrapped-apache",
   "metadata": {
    "execution": {
     "iopub.execute_input": "2021-05-30T15:12:53.460816Z",
     "iopub.status.busy": "2021-05-30T15:12:53.460039Z",
     "iopub.status.idle": "2021-05-30T15:12:53.462786Z",
     "shell.execute_reply": "2021-05-30T15:12:53.463275Z",
     "shell.execute_reply.started": "2021-05-30T15:02:30.320402Z"
    },
    "papermill": {
     "duration": 0.0865,
     "end_time": "2021-05-30T15:12:53.463491",
     "exception": false,
     "start_time": "2021-05-30T15:12:53.376991",
     "status": "completed"
    },
    "tags": []
   },
   "outputs": [],
   "source": [
    "#takes coefficient of linear_model as an argument\n",
    "def plot_coef(model_coef):\n",
    "    fig=plt.figure(figsize=(12,8))\n",
    "    model_coef.plot(\n",
    "        kind=\"bar\"\n",
    "    )\n",
    "    plt.xticks(rotation=90)"
   ]
  },
  {
   "cell_type": "markdown",
   "id": "occasional-stuart",
   "metadata": {
    "papermill": {
     "duration": 0.077623,
     "end_time": "2021-05-30T15:12:53.619121",
     "exception": false,
     "start_time": "2021-05-30T15:12:53.541498",
     "status": "completed"
    },
    "tags": []
   },
   "source": [
    "The below given function is used to perform h**yper-parameter tuning** for **Ridge()** and **Lasso()** regression.\n",
    "\n",
    "**GridSearchCV** is used for **hypertuning** and return the **best parameters fitting the linear model.**"
   ]
  },
  {
   "cell_type": "markdown",
   "id": "funny-construction",
   "metadata": {
    "papermill": {
     "duration": 0.077813,
     "end_time": "2021-05-30T15:12:53.776336",
     "exception": false,
     "start_time": "2021-05-30T15:12:53.698523",
     "status": "completed"
    },
    "tags": []
   },
   "source": []
  },
  {
   "cell_type": "code",
   "execution_count": 28,
   "id": "incorporate-recognition",
   "metadata": {
    "execution": {
     "iopub.execute_input": "2021-05-30T15:12:53.938382Z",
     "iopub.status.busy": "2021-05-30T15:12:53.937641Z",
     "iopub.status.idle": "2021-05-30T15:12:53.941415Z",
     "shell.execute_reply": "2021-05-30T15:12:53.940690Z",
     "shell.execute_reply.started": "2021-05-30T15:02:30.970335Z"
    },
    "papermill": {
     "duration": 0.087285,
     "end_time": "2021-05-30T15:12:53.941577",
     "exception": false,
     "start_time": "2021-05-30T15:12:53.854292",
     "status": "completed"
    },
    "tags": []
   },
   "outputs": [],
   "source": [
    "#takes model, user-defined hyper-parameters, train & test data splits as argument \n",
    "def gridSearch(model,params,X_train,y_train):\n",
    "    grid=GridSearchCV(\n",
    "        estimator=model,\n",
    "        param_grid=params,\n",
    "        cv=5\n",
    "    )\n",
    "    grid.fit(X_train,y_train)\n",
    "   \n",
    "    return grid.best_params_"
   ]
  },
  {
   "cell_type": "markdown",
   "id": "metallic-metro",
   "metadata": {
    "papermill": {
     "duration": 0.078444,
     "end_time": "2021-05-30T15:12:54.099656",
     "exception": false,
     "start_time": "2021-05-30T15:12:54.021212",
     "status": "completed"
    },
    "tags": []
   },
   "source": [
    "**BUILDING LINEAR MODELS**"
   ]
  },
  {
   "cell_type": "markdown",
   "id": "featured-gasoline",
   "metadata": {
    "papermill": {
     "duration": 0.077076,
     "end_time": "2021-05-30T15:12:54.255030",
     "exception": false,
     "start_time": "2021-05-30T15:12:54.177954",
     "status": "completed"
    },
    "tags": []
   },
   "source": [
    "**1-LinearRegression() Model**\n",
    "\n",
    "**LinearRegression(aka ordinary least squares):** Simplest & most classic linear method for regression. It finds the parameters w & b that minimize the mean squard error between predicted value and true value.\n",
    "\n",
    "y=wx + b\n",
    "\n",
    "w->Weights associated with individual independent features(Slope of a line)\n",
    "\n",
    "b->y intercept\n",
    "\n"
   ]
  },
  {
   "cell_type": "code",
   "execution_count": 29,
   "id": "surprising-delivery",
   "metadata": {
    "execution": {
     "iopub.execute_input": "2021-05-30T15:12:54.416146Z",
     "iopub.status.busy": "2021-05-30T15:12:54.415485Z",
     "iopub.status.idle": "2021-05-30T15:12:54.418734Z",
     "shell.execute_reply": "2021-05-30T15:12:54.418148Z",
     "shell.execute_reply.started": "2021-05-30T15:02:31.371811Z"
    },
    "papermill": {
     "duration": 0.085222,
     "end_time": "2021-05-30T15:12:54.418902",
     "exception": false,
     "start_time": "2021-05-30T15:12:54.333680",
     "status": "completed"
    },
    "tags": []
   },
   "outputs": [],
   "source": [
    "#initializing the model\n",
    "linear_model=LinearRegression()"
   ]
  },
  {
   "cell_type": "markdown",
   "id": "transsexual-google",
   "metadata": {
    "papermill": {
     "duration": 0.077788,
     "end_time": "2021-05-30T15:12:54.576309",
     "exception": false,
     "start_time": "2021-05-30T15:12:54.498521",
     "status": "completed"
    },
    "tags": []
   },
   "source": [
    "Lets fit the LinearRegression and fetch **training** and **testing** scores"
   ]
  },
  {
   "cell_type": "code",
   "execution_count": 30,
   "id": "controversial-south",
   "metadata": {
    "execution": {
     "iopub.execute_input": "2021-05-30T15:12:54.734913Z",
     "iopub.status.busy": "2021-05-30T15:12:54.734270Z",
     "iopub.status.idle": "2021-05-30T15:12:54.763241Z",
     "shell.execute_reply": "2021-05-30T15:12:54.762593Z",
     "shell.execute_reply.started": "2021-05-30T15:02:31.974948Z"
    },
    "papermill": {
     "duration": 0.10921,
     "end_time": "2021-05-30T15:12:54.763392",
     "exception": false,
     "start_time": "2021-05-30T15:12:54.654182",
     "status": "completed"
    },
    "tags": []
   },
   "outputs": [
    {
     "name": "stdout",
     "output_type": "stream",
     "text": [
      "Scores of LinearRegression() \n",
      "\n",
      "Training Score:0.95\n",
      "Testing Score:0.89\n"
     ]
    }
   ],
   "source": [
    "fit_model_getScores(linear_model,\n",
    "                    X_train_scaled,y_train,\n",
    "                    X_test_scaled,y_test\n",
    "                   )"
   ]
  },
  {
   "cell_type": "markdown",
   "id": "lovely-generic",
   "metadata": {
    "papermill": {
     "duration": 0.079139,
     "end_time": "2021-05-30T15:12:54.922170",
     "exception": false,
     "start_time": "2021-05-30T15:12:54.843031",
     "status": "completed"
    },
    "tags": []
   },
   "source": [
    "Get the **metrics** to evaluate LinearRegression"
   ]
  },
  {
   "cell_type": "code",
   "execution_count": 31,
   "id": "functioning-potter",
   "metadata": {
    "execution": {
     "iopub.execute_input": "2021-05-30T15:12:55.083264Z",
     "iopub.status.busy": "2021-05-30T15:12:55.082611Z",
     "iopub.status.idle": "2021-05-30T15:12:55.091123Z",
     "shell.execute_reply": "2021-05-30T15:12:55.092154Z",
     "shell.execute_reply.started": "2021-05-30T15:02:32.250051Z"
    },
    "papermill": {
     "duration": 0.091211,
     "end_time": "2021-05-30T15:12:55.092458",
     "exception": false,
     "start_time": "2021-05-30T15:12:55.001247",
     "status": "completed"
    },
    "tags": []
   },
   "outputs": [
    {
     "name": "stdout",
     "output_type": "stream",
     "text": [
      "The Metrics for LinearRegression():\n",
      "----------------------------\n",
      "Mean Squared Error:8482008.48\n",
      "Root Mean Squared Error:2912.39\n",
      "Mean Absolute Error:2089.38\n",
      "r2_score:0.89\n"
     ]
    }
   ],
   "source": [
    "get_metrics(linear_model,\n",
    "            X_test_scaled,y_test\n",
    "           )"
   ]
  },
  {
   "cell_type": "markdown",
   "id": "vertical-front",
   "metadata": {
    "papermill": {
     "duration": 0.078168,
     "end_time": "2021-05-30T15:12:55.250776",
     "exception": false,
     "start_time": "2021-05-30T15:12:55.172608",
     "status": "completed"
    },
    "tags": []
   },
   "source": [
    "The function **return_coef_series** will return the series of **coefficient** along with **features** as its **index**."
   ]
  },
  {
   "cell_type": "code",
   "execution_count": 32,
   "id": "pretty-ranking",
   "metadata": {
    "execution": {
     "iopub.execute_input": "2021-05-30T15:12:55.418996Z",
     "iopub.status.busy": "2021-05-30T15:12:55.418131Z",
     "iopub.status.idle": "2021-05-30T15:12:55.422995Z",
     "shell.execute_reply": "2021-05-30T15:12:55.422346Z",
     "shell.execute_reply.started": "2021-05-30T15:02:32.880088Z"
    },
    "papermill": {
     "duration": 0.092585,
     "end_time": "2021-05-30T15:12:55.423149",
     "exception": false,
     "start_time": "2021-05-30T15:12:55.330564",
     "status": "completed"
    },
    "tags": []
   },
   "outputs": [
    {
     "data": {
      "text/plain": [
       "cylindernumber_four     -3.435686e+03\n",
       "cylindernumber_six      -2.430446e+03\n",
       "citympg                 -1.451442e+03\n",
       "cylindernumber_five     -1.410610e+03\n",
       "stroke                  -1.228048e+03\n",
       "carbody_hatchback       -1.213306e+03\n",
       "compressionratio        -1.050933e+03\n",
       "carbody_wagon           -1.033287e+03\n",
       "enginetype_ohcv         -1.018035e+03\n",
       "carlength               -9.896359e+02\n",
       "cylindernumber_twelve   -9.407505e+02\n",
       "carbody_sedan           -8.096386e+02\n",
       "fueltype_gas            -7.345397e+02\n",
       "carbody_hardtop         -6.523898e+02\n",
       "boreratio               -5.667758e+02\n",
       "enginetype_l            -5.223946e+02\n",
       "enginetype_dohcv        -4.499925e+02\n",
       "fuelsystem_spdi         -4.235337e+02\n",
       "fuelsystem_mfi          -2.108288e+02\n",
       "doornumber_two          -1.535763e+02\n",
       "drivewheel_fwd          -1.158464e+02\n",
       "fuelsystem_4bbl         -7.565888e+01\n",
       "fuelsystem_spfi         -3.942311e+01\n",
       "cylindernumber_three    -1.421085e-14\n",
       "cylindernumber_two       3.790469e+00\n",
       "enginetype_rotor         3.790469e+00\n",
       "fuelsystem_2bbl          6.984852e+01\n",
       "horsepower               7.060068e+01\n",
       "fuelsystem_mpfi          1.160045e+02\n",
       "symboling                1.206925e+02\n",
       "enginetype_ohcf          1.504805e+02\n",
       "carheight                2.750156e+02\n",
       "drivewheel_rwd           4.140833e+02\n",
       "wheelbase                6.436797e+02\n",
       "aspiration_turbo         7.029353e+02\n",
       "fuelsystem_idi           7.345397e+02\n",
       "peakrpm                  9.718378e+02\n",
       "enginetype_ohc           1.000059e+03\n",
       "carwidth                 1.209908e+03\n",
       "highwaympg               1.245482e+03\n",
       "enginelocation_rear      1.450177e+03\n",
       "curbweight               1.925829e+03\n",
       "enginesize               4.998792e+03\n",
       "dtype: float64"
      ]
     },
     "execution_count": 32,
     "metadata": {},
     "output_type": "execute_result"
    }
   ],
   "source": [
    "linear_coef=return_coef_series(linear_model,X).sort_values()\n",
    "linear_coef"
   ]
  },
  {
   "cell_type": "markdown",
   "id": "demanding-terminal",
   "metadata": {
    "papermill": {
     "duration": 0.078441,
     "end_time": "2021-05-30T15:12:55.579619",
     "exception": false,
     "start_time": "2021-05-30T15:12:55.501178",
     "status": "completed"
    },
    "tags": []
   },
   "source": [
    "Lets visualize the coefficient of LinearRegression() model"
   ]
  },
  {
   "cell_type": "code",
   "execution_count": 33,
   "id": "severe-decline",
   "metadata": {
    "execution": {
     "iopub.execute_input": "2021-05-30T15:12:55.744234Z",
     "iopub.status.busy": "2021-05-30T15:12:55.743591Z",
     "iopub.status.idle": "2021-05-30T15:12:56.253334Z",
     "shell.execute_reply": "2021-05-30T15:12:56.253981Z",
     "shell.execute_reply.started": "2021-05-30T15:02:33.124895Z"
    },
    "papermill": {
     "duration": 0.595308,
     "end_time": "2021-05-30T15:12:56.254243",
     "exception": false,
     "start_time": "2021-05-30T15:12:55.658935",
     "status": "completed"
    },
    "tags": []
   },
   "outputs": [
    {
     "data": {
      "image/png": "[encoded data removed]",
      "text/plain": [
       "<Figure size 864x576 with 1 Axes>"
      ]
     },
     "metadata": {
      "needs_background": "light"
     },
     "output_type": "display_data"
    }
   ],
   "source": [
    "plot_coef(linear_coef)"
   ]
  },
  {
   "cell_type": "markdown",
   "id": "ordinary-queens",
   "metadata": {
    "papermill": {
     "duration": 0.08115,
     "end_time": "2021-05-30T15:12:56.418448",
     "exception": false,
     "start_time": "2021-05-30T15:12:56.337298",
     "status": "completed"
    },
    "tags": []
   },
   "source": [
    "**2-Ridge():** It is a linear model which uses **L2 regularization** technique.\n",
    "\n",
    "**L2 Regularization:** Regularization techniques explicitly restricts a model to aviod overfitting.\n",
    "\n",
    "**LinearRegression()** does not allow us to control its complexity so its very likely that it will **overfit** the models when the dataset is **relatively small**.\n",
    "\n",
    "**l2 regularization** reduces the cofficient of the independent features to small magnitude as possible i.e all entries of **w should be close to zero**\n",
    "\n",
    "**Ridge** have **alpha parameter** which makes a trade-off between the simplicity of the model and its perfomance on training set & hence tuning it will yeild different model performance."
   ]
  },
  {
   "cell_type": "code",
   "execution_count": 34,
   "id": "intensive-australia",
   "metadata": {
    "execution": {
     "iopub.execute_input": "2021-05-30T15:12:56.584684Z",
     "iopub.status.busy": "2021-05-30T15:12:56.583987Z",
     "iopub.status.idle": "2021-05-30T15:12:56.586613Z",
     "shell.execute_reply": "2021-05-30T15:12:56.587140Z",
     "shell.execute_reply.started": "2021-05-30T15:02:33.683928Z"
    },
    "papermill": {
     "duration": 0.088623,
     "end_time": "2021-05-30T15:12:56.587334",
     "exception": false,
     "start_time": "2021-05-30T15:12:56.498711",
     "status": "completed"
    },
    "tags": []
   },
   "outputs": [],
   "source": [
    "ridge_model=Ridge()"
   ]
  },
  {
   "cell_type": "markdown",
   "id": "toxic-lighter",
   "metadata": {
    "papermill": {
     "duration": 0.080263,
     "end_time": "2021-05-30T15:12:56.748486",
     "exception": false,
     "start_time": "2021-05-30T15:12:56.668223",
     "status": "completed"
    },
    "tags": []
   },
   "source": [
    "Lets perform Hyperparameter tuning and fit the ridge model with the best parameters generated by GridSeachCV hypertuning method"
   ]
  },
  {
   "cell_type": "markdown",
   "id": "amber-wisdom",
   "metadata": {
    "papermill": {
     "duration": 0.088923,
     "end_time": "2021-05-30T15:12:56.917641",
     "exception": false,
     "start_time": "2021-05-30T15:12:56.828718",
     "status": "completed"
    },
    "tags": []
   },
   "source": [
    "GridSeachCV gave us **alpha=1** and **max_iter=1000** as the best parameters for the model"
   ]
  },
  {
   "cell_type": "code",
   "execution_count": 35,
   "id": "pleased-airport",
   "metadata": {
    "execution": {
     "iopub.execute_input": "2021-05-30T15:12:57.085467Z",
     "iopub.status.busy": "2021-05-30T15:12:57.084780Z",
     "iopub.status.idle": "2021-05-30T15:12:57.667773Z",
     "shell.execute_reply": "2021-05-30T15:12:57.668767Z",
     "shell.execute_reply.started": "2021-05-30T15:02:34.618632Z"
    },
    "papermill": {
     "duration": 0.670589,
     "end_time": "2021-05-30T15:12:57.669089",
     "exception": false,
     "start_time": "2021-05-30T15:12:56.998500",
     "status": "completed"
    },
    "tags": []
   },
   "outputs": [
    {
     "data": {
      "text/plain": [
       "{'alpha': 1, 'max_iter': 1000.0}"
      ]
     },
     "execution_count": 35,
     "metadata": {},
     "output_type": "execute_result"
    }
   ],
   "source": [
    "params={\n",
    "    \"alpha\":[1e-9,1e-6,1e-3,1,100,1000,10000],\n",
    "    \"max_iter\":[1e3,1e4,1e5,1e6]#maximum number of iterations to run\n",
    "}\n",
    "\n",
    "ridge_best_params=gridSearch(ridge_model,params,X_train_scaled,y_train)\n",
    "ridge_best_params"
   ]
  },
  {
   "cell_type": "markdown",
   "id": "heard-toronto",
   "metadata": {
    "papermill": {
     "duration": 0.082674,
     "end_time": "2021-05-30T15:12:57.912238",
     "exception": false,
     "start_time": "2021-05-30T15:12:57.829564",
     "status": "completed"
    },
    "tags": []
   },
   "source": [
    "Fit ridge model with best parameters"
   ]
  },
  {
   "cell_type": "code",
   "execution_count": 36,
   "id": "seventh-consumption",
   "metadata": {
    "execution": {
     "iopub.execute_input": "2021-05-30T15:12:58.081817Z",
     "iopub.status.busy": "2021-05-30T15:12:58.081148Z",
     "iopub.status.idle": "2021-05-30T15:12:58.084547Z",
     "shell.execute_reply": "2021-05-30T15:12:58.084038Z",
     "shell.execute_reply.started": "2021-05-30T15:02:35.169055Z"
    },
    "papermill": {
     "duration": 0.091259,
     "end_time": "2021-05-30T15:12:58.084721",
     "exception": false,
     "start_time": "2021-05-30T15:12:57.993462",
     "status": "completed"
    },
    "tags": []
   },
   "outputs": [],
   "source": [
    "ridge1_model=Ridge(**ridge_best_params)"
   ]
  },
  {
   "cell_type": "markdown",
   "id": "stuffed-associate",
   "metadata": {
    "papermill": {
     "duration": 0.081871,
     "end_time": "2021-05-30T15:12:58.248027",
     "exception": false,
     "start_time": "2021-05-30T15:12:58.166156",
     "status": "completed"
    },
    "tags": []
   },
   "source": [
    "Fit the ridge model and return the **test** and **train** scores\n",
    "\n",
    "Fitting the model we get scores equivalent to the LinearRegression()"
   ]
  },
  {
   "cell_type": "markdown",
   "id": "spread-indication",
   "metadata": {
    "papermill": {
     "duration": 0.082162,
     "end_time": "2021-05-30T15:12:58.412764",
     "exception": false,
     "start_time": "2021-05-30T15:12:58.330602",
     "status": "completed"
    },
    "tags": []
   },
   "source": []
  },
  {
   "cell_type": "code",
   "execution_count": 37,
   "id": "grand-extraction",
   "metadata": {
    "execution": {
     "iopub.execute_input": "2021-05-30T15:12:58.583330Z",
     "iopub.status.busy": "2021-05-30T15:12:58.582288Z",
     "iopub.status.idle": "2021-05-30T15:12:58.591756Z",
     "shell.execute_reply": "2021-05-30T15:12:58.592530Z",
     "shell.execute_reply.started": "2021-05-30T15:02:35.430494Z"
    },
    "papermill": {
     "duration": 0.098731,
     "end_time": "2021-05-30T15:12:58.592849",
     "exception": false,
     "start_time": "2021-05-30T15:12:58.494118",
     "status": "completed"
    },
    "tags": []
   },
   "outputs": [
    {
     "name": "stdout",
     "output_type": "stream",
     "text": [
      "Scores of Ridge(alpha=1, max_iter=1000.0) \n",
      "\n",
      "Training Score:0.95\n",
      "Testing Score:0.89\n"
     ]
    }
   ],
   "source": [
    "fit_model_getScores(ridge1_model,\n",
    "                    X_train_scaled,y_train,\n",
    "                    X_test_scaled,y_test\n",
    "                   )"
   ]
  },
  {
   "cell_type": "markdown",
   "id": "suffering-craft",
   "metadata": {
    "papermill": {
     "duration": 0.08257,
     "end_time": "2021-05-30T15:12:58.800559",
     "exception": false,
     "start_time": "2021-05-30T15:12:58.717989",
     "status": "completed"
    },
    "tags": []
   },
   "source": [
    "Get the metrics to evaluate ridge model"
   ]
  },
  {
   "cell_type": "code",
   "execution_count": 38,
   "id": "arctic-motel",
   "metadata": {
    "execution": {
     "iopub.execute_input": "2021-05-30T15:12:58.971805Z",
     "iopub.status.busy": "2021-05-30T15:12:58.971144Z",
     "iopub.status.idle": "2021-05-30T15:12:58.974024Z",
     "shell.execute_reply": "2021-05-30T15:12:58.974588Z",
     "shell.execute_reply.started": "2021-05-30T15:02:36.075653Z"
    },
    "papermill": {
     "duration": 0.092348,
     "end_time": "2021-05-30T15:12:58.974790",
     "exception": false,
     "start_time": "2021-05-30T15:12:58.882442",
     "status": "completed"
    },
    "tags": []
   },
   "outputs": [
    {
     "name": "stdout",
     "output_type": "stream",
     "text": [
      "The Metrics for Ridge(alpha=1, max_iter=1000.0):\n",
      "----------------------------\n",
      "Mean Squared Error:8998554.91\n",
      "Root Mean Squared Error:2999.76\n",
      "Mean Absolute Error:2104.38\n",
      "r2_score:0.89\n"
     ]
    }
   ],
   "source": [
    "get_metrics(ridge1_model,\n",
    "            X_test_scaled,y_test\n",
    "           )"
   ]
  },
  {
   "cell_type": "markdown",
   "id": "present-california",
   "metadata": {
    "papermill": {
     "duration": 0.081997,
     "end_time": "2021-05-30T15:12:59.140006",
     "exception": false,
     "start_time": "2021-05-30T15:12:59.058009",
     "status": "completed"
    },
    "tags": []
   },
   "source": [
    "Get the coefficeint series of ridge model\n",
    "\n",
    "From the values returned in series, we can see that the **coefficients** have been **reduced** to the fractions of its original value.\n",
    "\n",
    "**L2 regularization** technique in Ridge reduces the coefficient the features **as close to zero.**\n"
   ]
  },
  {
   "cell_type": "markdown",
   "id": "statistical-problem",
   "metadata": {
    "papermill": {
     "duration": 0.083988,
     "end_time": "2021-05-30T15:12:59.306279",
     "exception": false,
     "start_time": "2021-05-30T15:12:59.222291",
     "status": "completed"
    },
    "tags": []
   },
   "source": []
  },
  {
   "cell_type": "code",
   "execution_count": 39,
   "id": "appointed-leader",
   "metadata": {
    "execution": {
     "iopub.execute_input": "2021-05-30T15:12:59.475066Z",
     "iopub.status.busy": "2021-05-30T15:12:59.474309Z",
     "iopub.status.idle": "2021-05-30T15:12:59.481936Z",
     "shell.execute_reply": "2021-05-30T15:12:59.482616Z",
     "shell.execute_reply.started": "2021-05-30T15:02:36.727465Z"
    },
    "papermill": {
     "duration": 0.094216,
     "end_time": "2021-05-30T15:12:59.482871",
     "exception": false,
     "start_time": "2021-05-30T15:12:59.388655",
     "status": "completed"
    },
    "tags": []
   },
   "outputs": [
    {
     "data": {
      "text/plain": [
       "cylindernumber_four     -2736.884258\n",
       "cylindernumber_six      -1996.504245\n",
       "carbody_hatchback       -1184.197681\n",
       "stroke                  -1176.472164\n",
       "cylindernumber_five     -1113.246884\n",
       "carbody_wagon            -984.618424\n",
       "citympg                  -957.255446\n",
       "carlength                -935.891048\n",
       "cylindernumber_twelve    -878.150089\n",
       "enginetype_ohcv          -838.829223\n",
       "carbody_sedan            -706.976155\n",
       "compressionratio         -630.934737\n",
       "carbody_hardtop          -605.228562\n",
       "enginetype_l             -586.918819\n",
       "boreratio                -568.334137\n",
       "fueltype_gas             -477.024836\n",
       "fuelsystem_spdi          -416.691487\n",
       "enginetype_dohcv         -319.679379\n",
       "fuelsystem_mfi           -218.312850\n",
       "doornumber_two           -128.609039\n",
       "drivewheel_fwd           -124.551536\n",
       "fuelsystem_4bbl          -101.644272\n",
       "fuelsystem_spfi           -67.405985\n",
       "fuelsystem_mpfi           -14.645269\n",
       "cylindernumber_three        0.000000\n",
       "fuelsystem_2bbl             5.196358\n",
       "enginetype_ohcf            77.077992\n",
       "cylindernumber_two         90.100488\n",
       "enginetype_rotor           90.100488\n",
       "symboling                 191.588614\n",
       "carheight                 236.927621\n",
       "horsepower                258.663991\n",
       "drivewheel_rwd            420.840821\n",
       "fuelsystem_idi            477.024836\n",
       "aspiration_turbo          615.426719\n",
       "highwaympg                674.781406\n",
       "wheelbase                 737.152789\n",
       "peakrpm                   812.500756\n",
       "enginetype_ohc            939.733709\n",
       "carwidth                 1273.404582\n",
       "enginelocation_rear      1562.583944\n",
       "curbweight               1871.067811\n",
       "enginesize               4714.864044\n",
       "dtype: float64"
      ]
     },
     "execution_count": 39,
     "metadata": {},
     "output_type": "execute_result"
    }
   ],
   "source": [
    "ridge_coef=return_coef_series(ridge1_model,X).sort_values()\n",
    "ridge_coef"
   ]
  },
  {
   "cell_type": "markdown",
   "id": "phantom-speech",
   "metadata": {
    "papermill": {
     "duration": 0.081967,
     "end_time": "2021-05-30T15:12:59.647543",
     "exception": false,
     "start_time": "2021-05-30T15:12:59.565576",
     "status": "completed"
    },
    "tags": []
   },
   "source": [
    "Visualize the coefficient series of ridge model\n",
    "\n",
    "We can see that the upper & lower x-limmits have been reduced."
   ]
  },
  {
   "cell_type": "markdown",
   "id": "burning-oriental",
   "metadata": {
    "papermill": {
     "duration": 0.08218,
     "end_time": "2021-05-30T15:12:59.817069",
     "exception": false,
     "start_time": "2021-05-30T15:12:59.734889",
     "status": "completed"
    },
    "tags": []
   },
   "source": []
  },
  {
   "cell_type": "code",
   "execution_count": 40,
   "id": "minute-blank",
   "metadata": {
    "execution": {
     "iopub.execute_input": "2021-05-30T15:12:59.988279Z",
     "iopub.status.busy": "2021-05-30T15:12:59.987653Z",
     "iopub.status.idle": "2021-05-30T15:13:00.699722Z",
     "shell.execute_reply": "2021-05-30T15:13:00.700258Z",
     "shell.execute_reply.started": "2021-05-30T15:02:37.420433Z"
    },
    "papermill": {
     "duration": 0.801032,
     "end_time": "2021-05-30T15:13:00.700469",
     "exception": false,
     "start_time": "2021-05-30T15:12:59.899437",
     "status": "completed"
    },
    "tags": []
   },
   "outputs": [
    {
     "data": {
      "image/png": "[encoded data removed]",
      "text/plain": [
       "<Figure size 864x576 with 1 Axes>"
      ]
     },
     "metadata": {
      "needs_background": "light"
     },
     "output_type": "display_data"
    }
   ],
   "source": [
    "plot_coef(ridge_coef)"
   ]
  },
  {
   "cell_type": "markdown",
   "id": "vertical-assault",
   "metadata": {
    "execution": {
     "iopub.execute_input": "2021-05-30T09:04:06.840528Z",
     "iopub.status.busy": "2021-05-30T09:04:06.840186Z",
     "iopub.status.idle": "2021-05-30T09:04:06.845909Z",
     "shell.execute_reply": "2021-05-30T09:04:06.844644Z",
     "shell.execute_reply.started": "2021-05-30T09:04:06.840499Z"
    },
    "papermill": {
     "duration": 0.085212,
     "end_time": "2021-05-30T15:13:00.871504",
     "exception": false,
     "start_time": "2021-05-30T15:13:00.786292",
     "status": "completed"
    },
    "tags": []
   },
   "source": [
    "**3-Lasso():** It is a linear model which uses **L1 regularization** technique.\n",
    "\n",
    "**l1 regularization** also reduces the coefficient magnitude however unlike Ridge it **reduces magnitude of some of the features to zero**. Hence it **neglects** some of the features completely.\n",
    "\n",
    "Hence it is also used for **automatic feature selection** as it ignores some of the features.\n",
    "\n",
    "**Lasso** also have **alpha parameter** which makes a trade-off between the simplicity of the model and its perfomance on training set & hence tuning it will yeild different model performance."
   ]
  },
  {
   "cell_type": "code",
   "execution_count": 41,
   "id": "deadly-jones",
   "metadata": {
    "execution": {
     "iopub.execute_input": "2021-05-30T15:13:01.046983Z",
     "iopub.status.busy": "2021-05-30T15:13:01.046237Z",
     "iopub.status.idle": "2021-05-30T15:13:01.049749Z",
     "shell.execute_reply": "2021-05-30T15:13:01.049221Z",
     "shell.execute_reply.started": "2021-05-30T15:02:40.360043Z"
    },
    "papermill": {
     "duration": 0.093435,
     "end_time": "2021-05-30T15:13:01.049934",
     "exception": false,
     "start_time": "2021-05-30T15:13:00.956499",
     "status": "completed"
    },
    "tags": []
   },
   "outputs": [],
   "source": [
    "lasso_model=Lasso()"
   ]
  },
  {
   "cell_type": "markdown",
   "id": "excited-director",
   "metadata": {
    "papermill": {
     "duration": 0.084435,
     "end_time": "2021-05-30T15:13:01.220107",
     "exception": false,
     "start_time": "2021-05-30T15:13:01.135672",
     "status": "completed"
    },
    "tags": []
   },
   "source": [
    "We got **alpha=100** & **max_iter=1000** for the lasso model \n",
    "\n"
   ]
  },
  {
   "cell_type": "code",
   "execution_count": 42,
   "id": "french-survival",
   "metadata": {
    "execution": {
     "iopub.execute_input": "2021-05-30T15:13:01.401696Z",
     "iopub.status.busy": "2021-05-30T15:13:01.397810Z",
     "iopub.status.idle": "2021-05-30T15:13:41.321467Z",
     "shell.execute_reply": "2021-05-30T15:13:41.321985Z",
     "shell.execute_reply.started": "2021-05-30T15:02:42.348220Z"
    },
    "papermill": {
     "duration": 40.017926,
     "end_time": "2021-05-30T15:13:41.322191",
     "exception": false,
     "start_time": "2021-05-30T15:13:01.304265",
     "status": "completed"
    },
    "tags": []
   },
   "outputs": [
    {
     "data": {
      "text/plain": [
       "{'alpha': 100, 'max_iter': 1000.0}"
      ]
     },
     "execution_count": 42,
     "metadata": {},
     "output_type": "execute_result"
    }
   ],
   "source": [
    "params={\n",
    "    \"alpha\":[1e-9,1e-6,1e-3,1,100,1000,10000],\n",
    "    \"max_iter\":[1e3,1e4,1e5,1e6]#maximum number of iterations to run\n",
    "}\n",
    "\n",
    "lasso_best_params=gridSearch(lasso_model,params,X_train_scaled,y_train)\n",
    "lasso_best_params"
   ]
  },
  {
   "cell_type": "markdown",
   "id": "distant-silver",
   "metadata": {
    "papermill": {
     "duration": 0.082202,
     "end_time": "2021-05-30T15:13:41.487549",
     "exception": false,
     "start_time": "2021-05-30T15:13:41.405347",
     "status": "completed"
    },
    "tags": []
   },
   "source": [
    "Lets try fitting the Lasso model using the parameters that have been returned from Hypertuning"
   ]
  },
  {
   "cell_type": "code",
   "execution_count": 43,
   "id": "collaborative-postage",
   "metadata": {
    "execution": {
     "iopub.execute_input": "2021-05-30T15:13:41.657956Z",
     "iopub.status.busy": "2021-05-30T15:13:41.657272Z",
     "iopub.status.idle": "2021-05-30T15:13:41.660495Z",
     "shell.execute_reply": "2021-05-30T15:13:41.659999Z",
     "shell.execute_reply.started": "2021-05-30T15:03:22.447110Z"
    },
    "papermill": {
     "duration": 0.090713,
     "end_time": "2021-05-30T15:13:41.660641",
     "exception": false,
     "start_time": "2021-05-30T15:13:41.569928",
     "status": "completed"
    },
    "tags": []
   },
   "outputs": [],
   "source": [
    "lasso1_model=Lasso(**lasso_best_params)"
   ]
  },
  {
   "cell_type": "markdown",
   "id": "indian-bones",
   "metadata": {
    "papermill": {
     "duration": 0.084209,
     "end_time": "2021-05-30T15:13:41.827995",
     "exception": false,
     "start_time": "2021-05-30T15:13:41.743786",
     "status": "completed"
    },
    "tags": []
   },
   "source": [
    "The scores are **93% for training set** and **86% for testing set** which is better generalized model than the above two models i.e LinearRegression() & Ridge()"
   ]
  },
  {
   "cell_type": "code",
   "execution_count": 44,
   "id": "egyptian-masters",
   "metadata": {
    "execution": {
     "iopub.execute_input": "2021-05-30T15:13:42.001468Z",
     "iopub.status.busy": "2021-05-30T15:13:42.000746Z",
     "iopub.status.idle": "2021-05-30T15:13:42.009351Z",
     "shell.execute_reply": "2021-05-30T15:13:42.008580Z",
     "shell.execute_reply.started": "2021-05-30T15:03:22.453727Z"
    },
    "papermill": {
     "duration": 0.097952,
     "end_time": "2021-05-30T15:13:42.009578",
     "exception": false,
     "start_time": "2021-05-30T15:13:41.911626",
     "status": "completed"
    },
    "tags": []
   },
   "outputs": [
    {
     "name": "stdout",
     "output_type": "stream",
     "text": [
      "Scores of Lasso(alpha=100, max_iter=1000.0) \n",
      "\n",
      "Training Score:0.93\n",
      "Testing Score:0.86\n"
     ]
    }
   ],
   "source": [
    "fit_model_getScores(lasso1_model,\n",
    "                    X_train_scaled,y_train,\n",
    "                    X_test_scaled,y_test\n",
    "                   )"
   ]
  },
  {
   "cell_type": "markdown",
   "id": "plain-annotation",
   "metadata": {
    "papermill": {
     "duration": 0.084413,
     "end_time": "2021-05-30T15:13:42.179655",
     "exception": false,
     "start_time": "2021-05-30T15:13:42.095242",
     "status": "completed"
    },
    "tags": []
   },
   "source": [
    "Print the metrics of lasso model"
   ]
  },
  {
   "cell_type": "code",
   "execution_count": 45,
   "id": "flexible-vancouver",
   "metadata": {
    "execution": {
     "iopub.execute_input": "2021-05-30T15:13:42.356361Z",
     "iopub.status.busy": "2021-05-30T15:13:42.355617Z",
     "iopub.status.idle": "2021-05-30T15:13:42.359785Z",
     "shell.execute_reply": "2021-05-30T15:13:42.359162Z",
     "shell.execute_reply.started": "2021-05-30T15:03:22.474872Z"
    },
    "papermill": {
     "duration": 0.096306,
     "end_time": "2021-05-30T15:13:42.359970",
     "exception": false,
     "start_time": "2021-05-30T15:13:42.263664",
     "status": "completed"
    },
    "tags": []
   },
   "outputs": [
    {
     "name": "stdout",
     "output_type": "stream",
     "text": [
      "The Metrics for Lasso(alpha=100, max_iter=1000.0):\n",
      "----------------------------\n",
      "Mean Squared Error:10833614.66\n",
      "Root Mean Squared Error:3291.45\n",
      "Mean Absolute Error:2220.73\n",
      "r2_score:0.86\n"
     ]
    }
   ],
   "source": [
    "get_metrics(lasso1_model,\n",
    "            X_test_scaled,y_test\n",
    "           )"
   ]
  },
  {
   "cell_type": "markdown",
   "id": "dependent-digest",
   "metadata": {
    "papermill": {
     "duration": 0.084377,
     "end_time": "2021-05-30T15:13:42.529276",
     "exception": false,
     "start_time": "2021-05-30T15:13:42.444899",
     "status": "completed"
    },
    "tags": []
   },
   "source": [
    "Lets see the magnitude of coefficients returned by the lasso model.\n",
    "\n",
    "This is where it gets very intresting we can see that there are many features whose cofficients are reduced to zero. It means that the Lasso model have completely ignored those features with coefficients equals to zero while fitting the model."
   ]
  },
  {
   "cell_type": "code",
   "execution_count": 46,
   "id": "anticipated-roads",
   "metadata": {
    "execution": {
     "iopub.execute_input": "2021-05-30T15:13:42.705925Z",
     "iopub.status.busy": "2021-05-30T15:13:42.704933Z",
     "iopub.status.idle": "2021-05-30T15:13:42.709956Z",
     "shell.execute_reply": "2021-05-30T15:13:42.709349Z",
     "shell.execute_reply.started": "2021-05-30T15:03:22.486334Z"
    },
    "papermill": {
     "duration": 0.09723,
     "end_time": "2021-05-30T15:13:42.710121",
     "exception": false,
     "start_time": "2021-05-30T15:13:42.612891",
     "status": "completed"
    },
    "tags": []
   },
   "outputs": [
    {
     "data": {
      "text/plain": [
       "cylindernumber_four      -909.085576\n",
       "stroke                   -907.851768\n",
       "carbody_wagon            -487.562265\n",
       "cylindernumber_twelve    -474.381729\n",
       "carbody_hatchback        -464.408323\n",
       "cylindernumber_six       -425.877744\n",
       "enginetype_l             -402.126046\n",
       "enginetype_ohcv          -319.794587\n",
       "fuelsystem_spdi          -164.097286\n",
       "boreratio                -116.962730\n",
       "carbody_hardtop          -109.724454\n",
       "fuelsystem_mfi            -78.165520\n",
       "fuelsystem_2bbl           -68.385816\n",
       "enginetype_ohcf            -0.000000\n",
       "symboling                   0.000000\n",
       "fuelsystem_4bbl             0.000000\n",
       "fuelsystem_idi              0.000000\n",
       "fuelsystem_mpfi             0.000000\n",
       "cylindernumber_five        -0.000000\n",
       "cylindernumber_three        0.000000\n",
       "drivewheel_fwd             -0.000000\n",
       "doornumber_two              0.000000\n",
       "carlength                  -0.000000\n",
       "compressionratio            0.000000\n",
       "horsepower                  0.000000\n",
       "carbody_sedan               0.000000\n",
       "citympg                    -0.000000\n",
       "highwaympg                 -0.000000\n",
       "fuelsystem_spfi            -0.000000\n",
       "fueltype_gas               -0.000000\n",
       "cylindernumber_two          7.240537\n",
       "wheelbase                  19.348435\n",
       "enginetype_dohcv           29.460838\n",
       "carheight                 123.606775\n",
       "aspiration_turbo          446.239297\n",
       "drivewheel_rwd            527.446873\n",
       "enginetype_rotor          541.205724\n",
       "enginetype_ohc            567.186284\n",
       "peakrpm                   596.898960\n",
       "carwidth                 1364.529247\n",
       "curbweight               1488.699859\n",
       "enginelocation_rear      1515.819696\n",
       "enginesize               4339.849089\n",
       "dtype: float64"
      ]
     },
     "execution_count": 46,
     "metadata": {},
     "output_type": "execute_result"
    }
   ],
   "source": [
    "lasso_coef=return_coef_series(lasso1_model,X).sort_values()\n",
    "lasso_coef"
   ]
  },
  {
   "cell_type": "markdown",
   "id": "tropical-mitchell",
   "metadata": {
    "papermill": {
     "duration": 0.084693,
     "end_time": "2021-05-30T15:13:42.880331",
     "exception": false,
     "start_time": "2021-05-30T15:13:42.795638",
     "status": "completed"
    },
    "tags": []
   },
   "source": [
    "Lets create Dataframe that stores the features with its corresponding coefficient values"
   ]
  },
  {
   "cell_type": "code",
   "execution_count": 47,
   "id": "likely-exclusive",
   "metadata": {
    "execution": {
     "iopub.execute_input": "2021-05-30T15:13:43.065468Z",
     "iopub.status.busy": "2021-05-30T15:13:43.064643Z",
     "iopub.status.idle": "2021-05-30T15:13:43.070168Z",
     "shell.execute_reply": "2021-05-30T15:13:43.069498Z",
     "shell.execute_reply.started": "2021-05-30T15:03:22.500510Z"
    },
    "papermill": {
     "duration": 0.104058,
     "end_time": "2021-05-30T15:13:43.070329",
     "exception": false,
     "start_time": "2021-05-30T15:13:42.966271",
     "status": "completed"
    },
    "tags": []
   },
   "outputs": [
    {
     "data": {
      "text/html": [
       "<div>\n",
       "<style scoped>\n",
       "    .dataframe tbody tr th:only-of-type {\n",
       "        vertical-align: middle;\n",
       "    }\n",
       "\n",
       "    .dataframe tbody tr th {\n",
       "        vertical-align: top;\n",
       "    }\n",
       "\n",
       "    .dataframe thead th {\n",
       "        text-align: right;\n",
       "    }\n",
       "</style>\n",
       "<table border=\"1\" class=\"dataframe\">\n",
       "  <thead>\n",
       "    <tr style=\"text-align: right;\">\n",
       "      <th></th>\n",
       "      <th>Coefficient</th>\n",
       "    </tr>\n",
       "  </thead>\n",
       "  <tbody>\n",
       "    <tr>\n",
       "      <th>cylindernumber_four</th>\n",
       "      <td>-909.085576</td>\n",
       "    </tr>\n",
       "    <tr>\n",
       "      <th>stroke</th>\n",
       "      <td>-907.851768</td>\n",
       "    </tr>\n",
       "    <tr>\n",
       "      <th>carbody_wagon</th>\n",
       "      <td>-487.562265</td>\n",
       "    </tr>\n",
       "    <tr>\n",
       "      <th>cylindernumber_twelve</th>\n",
       "      <td>-474.381729</td>\n",
       "    </tr>\n",
       "    <tr>\n",
       "      <th>carbody_hatchback</th>\n",
       "      <td>-464.408323</td>\n",
       "    </tr>\n",
       "    <tr>\n",
       "      <th>cylindernumber_six</th>\n",
       "      <td>-425.877744</td>\n",
       "    </tr>\n",
       "    <tr>\n",
       "      <th>enginetype_l</th>\n",
       "      <td>-402.126046</td>\n",
       "    </tr>\n",
       "    <tr>\n",
       "      <th>enginetype_ohcv</th>\n",
       "      <td>-319.794587</td>\n",
       "    </tr>\n",
       "    <tr>\n",
       "      <th>fuelsystem_spdi</th>\n",
       "      <td>-164.097286</td>\n",
       "    </tr>\n",
       "    <tr>\n",
       "      <th>boreratio</th>\n",
       "      <td>-116.962730</td>\n",
       "    </tr>\n",
       "    <tr>\n",
       "      <th>carbody_hardtop</th>\n",
       "      <td>-109.724454</td>\n",
       "    </tr>\n",
       "    <tr>\n",
       "      <th>fuelsystem_mfi</th>\n",
       "      <td>-78.165520</td>\n",
       "    </tr>\n",
       "    <tr>\n",
       "      <th>fuelsystem_2bbl</th>\n",
       "      <td>-68.385816</td>\n",
       "    </tr>\n",
       "    <tr>\n",
       "      <th>enginetype_ohcf</th>\n",
       "      <td>-0.000000</td>\n",
       "    </tr>\n",
       "    <tr>\n",
       "      <th>symboling</th>\n",
       "      <td>0.000000</td>\n",
       "    </tr>\n",
       "    <tr>\n",
       "      <th>fuelsystem_4bbl</th>\n",
       "      <td>0.000000</td>\n",
       "    </tr>\n",
       "    <tr>\n",
       "      <th>fuelsystem_idi</th>\n",
       "      <td>0.000000</td>\n",
       "    </tr>\n",
       "    <tr>\n",
       "      <th>fuelsystem_mpfi</th>\n",
       "      <td>0.000000</td>\n",
       "    </tr>\n",
       "    <tr>\n",
       "      <th>cylindernumber_five</th>\n",
       "      <td>-0.000000</td>\n",
       "    </tr>\n",
       "    <tr>\n",
       "      <th>cylindernumber_three</th>\n",
       "      <td>0.000000</td>\n",
       "    </tr>\n",
       "    <tr>\n",
       "      <th>drivewheel_fwd</th>\n",
       "      <td>-0.000000</td>\n",
       "    </tr>\n",
       "    <tr>\n",
       "      <th>doornumber_two</th>\n",
       "      <td>0.000000</td>\n",
       "    </tr>\n",
       "    <tr>\n",
       "      <th>carlength</th>\n",
       "      <td>-0.000000</td>\n",
       "    </tr>\n",
       "    <tr>\n",
       "      <th>compressionratio</th>\n",
       "      <td>0.000000</td>\n",
       "    </tr>\n",
       "    <tr>\n",
       "      <th>horsepower</th>\n",
       "      <td>0.000000</td>\n",
       "    </tr>\n",
       "    <tr>\n",
       "      <th>carbody_sedan</th>\n",
       "      <td>0.000000</td>\n",
       "    </tr>\n",
       "    <tr>\n",
       "      <th>citympg</th>\n",
       "      <td>-0.000000</td>\n",
       "    </tr>\n",
       "    <tr>\n",
       "      <th>highwaympg</th>\n",
       "      <td>-0.000000</td>\n",
       "    </tr>\n",
       "    <tr>\n",
       "      <th>fuelsystem_spfi</th>\n",
       "      <td>-0.000000</td>\n",
       "    </tr>\n",
       "    <tr>\n",
       "      <th>fueltype_gas</th>\n",
       "      <td>-0.000000</td>\n",
       "    </tr>\n",
       "    <tr>\n",
       "      <th>cylindernumber_two</th>\n",
       "      <td>7.240537</td>\n",
       "    </tr>\n",
       "    <tr>\n",
       "      <th>wheelbase</th>\n",
       "      <td>19.348435</td>\n",
       "    </tr>\n",
       "    <tr>\n",
       "      <th>enginetype_dohcv</th>\n",
       "      <td>29.460838</td>\n",
       "    </tr>\n",
       "    <tr>\n",
       "      <th>carheight</th>\n",
       "      <td>123.606775</td>\n",
       "    </tr>\n",
       "    <tr>\n",
       "      <th>aspiration_turbo</th>\n",
       "      <td>446.239297</td>\n",
       "    </tr>\n",
       "    <tr>\n",
       "      <th>drivewheel_rwd</th>\n",
       "      <td>527.446873</td>\n",
       "    </tr>\n",
       "    <tr>\n",
       "      <th>enginetype_rotor</th>\n",
       "      <td>541.205724</td>\n",
       "    </tr>\n",
       "    <tr>\n",
       "      <th>enginetype_ohc</th>\n",
       "      <td>567.186284</td>\n",
       "    </tr>\n",
       "    <tr>\n",
       "      <th>peakrpm</th>\n",
       "      <td>596.898960</td>\n",
       "    </tr>\n",
       "    <tr>\n",
       "      <th>carwidth</th>\n",
       "      <td>1364.529247</td>\n",
       "    </tr>\n",
       "    <tr>\n",
       "      <th>curbweight</th>\n",
       "      <td>1488.699859</td>\n",
       "    </tr>\n",
       "    <tr>\n",
       "      <th>enginelocation_rear</th>\n",
       "      <td>1515.819696</td>\n",
       "    </tr>\n",
       "    <tr>\n",
       "      <th>enginesize</th>\n",
       "      <td>4339.849089</td>\n",
       "    </tr>\n",
       "  </tbody>\n",
       "</table>\n",
       "</div>"
      ],
      "text/plain": [
       "                       Coefficient\n",
       "cylindernumber_four    -909.085576\n",
       "stroke                 -907.851768\n",
       "carbody_wagon          -487.562265\n",
       "cylindernumber_twelve  -474.381729\n",
       "carbody_hatchback      -464.408323\n",
       "cylindernumber_six     -425.877744\n",
       "enginetype_l           -402.126046\n",
       "enginetype_ohcv        -319.794587\n",
       "fuelsystem_spdi        -164.097286\n",
       "boreratio              -116.962730\n",
       "carbody_hardtop        -109.724454\n",
       "fuelsystem_mfi          -78.165520\n",
       "fuelsystem_2bbl         -68.385816\n",
       "enginetype_ohcf          -0.000000\n",
       "symboling                 0.000000\n",
       "fuelsystem_4bbl           0.000000\n",
       "fuelsystem_idi            0.000000\n",
       "fuelsystem_mpfi           0.000000\n",
       "cylindernumber_five      -0.000000\n",
       "cylindernumber_three      0.000000\n",
       "drivewheel_fwd           -0.000000\n",
       "doornumber_two            0.000000\n",
       "carlength                -0.000000\n",
       "compressionratio          0.000000\n",
       "horsepower                0.000000\n",
       "carbody_sedan             0.000000\n",
       "citympg                  -0.000000\n",
       "highwaympg               -0.000000\n",
       "fuelsystem_spfi          -0.000000\n",
       "fueltype_gas             -0.000000\n",
       "cylindernumber_two        7.240537\n",
       "wheelbase                19.348435\n",
       "enginetype_dohcv         29.460838\n",
       "carheight               123.606775\n",
       "aspiration_turbo        446.239297\n",
       "drivewheel_rwd          527.446873\n",
       "enginetype_rotor        541.205724\n",
       "enginetype_ohc          567.186284\n",
       "peakrpm                 596.898960\n",
       "carwidth               1364.529247\n",
       "curbweight             1488.699859\n",
       "enginelocation_rear    1515.819696\n",
       "enginesize             4339.849089"
      ]
     },
     "execution_count": 47,
     "metadata": {},
     "output_type": "execute_result"
    }
   ],
   "source": [
    "lasso_coef_df=pd.DataFrame(\n",
    "    data=lasso_coef,\n",
    "    columns=[\"Coefficient\"]\n",
    ")\n",
    "lasso_coef_df"
   ]
  },
  {
   "cell_type": "markdown",
   "id": "human-emperor",
   "metadata": {
    "papermill": {
     "duration": 0.084816,
     "end_time": "2021-05-30T15:13:43.242142",
     "exception": false,
     "start_time": "2021-05-30T15:13:43.157326",
     "status": "completed"
    },
    "tags": []
   },
   "source": [
    "Lets us see how many features have been used in the model and how many have been neglected by the Lasso model"
   ]
  },
  {
   "cell_type": "markdown",
   "id": "appropriate-grove",
   "metadata": {
    "papermill": {
     "duration": 0.085879,
     "end_time": "2021-05-30T15:13:43.413095",
     "exception": false,
     "start_time": "2021-05-30T15:13:43.327216",
     "status": "completed"
    },
    "tags": []
   },
   "source": []
  },
  {
   "cell_type": "markdown",
   "id": "manual-brazil",
   "metadata": {
    "papermill": {
     "duration": 0.084832,
     "end_time": "2021-05-30T15:13:43.583294",
     "exception": false,
     "start_time": "2021-05-30T15:13:43.498462",
     "status": "completed"
    },
    "tags": []
   },
   "source": [
    "The dataframes below shows the features as an indexes whose coefficient has been reduced to zero and are completely neglected by the Lasso model"
   ]
  },
  {
   "cell_type": "code",
   "execution_count": 48,
   "id": "cooperative-metropolitan",
   "metadata": {
    "execution": {
     "iopub.execute_input": "2021-05-30T15:13:43.766304Z",
     "iopub.status.busy": "2021-05-30T15:13:43.765600Z",
     "iopub.status.idle": "2021-05-30T15:13:43.770206Z",
     "shell.execute_reply": "2021-05-30T15:13:43.770680Z",
     "shell.execute_reply.started": "2021-05-30T15:03:22.523403Z"
    },
    "papermill": {
     "duration": 0.102499,
     "end_time": "2021-05-30T15:13:43.770910",
     "exception": false,
     "start_time": "2021-05-30T15:13:43.668411",
     "status": "completed"
    },
    "tags": []
   },
   "outputs": [
    {
     "data": {
      "text/html": [
       "<div>\n",
       "<style scoped>\n",
       "    .dataframe tbody tr th:only-of-type {\n",
       "        vertical-align: middle;\n",
       "    }\n",
       "\n",
       "    .dataframe tbody tr th {\n",
       "        vertical-align: top;\n",
       "    }\n",
       "\n",
       "    .dataframe thead th {\n",
       "        text-align: right;\n",
       "    }\n",
       "</style>\n",
       "<table border=\"1\" class=\"dataframe\">\n",
       "  <thead>\n",
       "    <tr style=\"text-align: right;\">\n",
       "      <th></th>\n",
       "      <th>Coefficient</th>\n",
       "    </tr>\n",
       "  </thead>\n",
       "  <tbody>\n",
       "    <tr>\n",
       "      <th>enginetype_ohcf</th>\n",
       "      <td>-0.0</td>\n",
       "    </tr>\n",
       "    <tr>\n",
       "      <th>symboling</th>\n",
       "      <td>0.0</td>\n",
       "    </tr>\n",
       "    <tr>\n",
       "      <th>fuelsystem_4bbl</th>\n",
       "      <td>0.0</td>\n",
       "    </tr>\n",
       "    <tr>\n",
       "      <th>fuelsystem_idi</th>\n",
       "      <td>0.0</td>\n",
       "    </tr>\n",
       "    <tr>\n",
       "      <th>fuelsystem_mpfi</th>\n",
       "      <td>0.0</td>\n",
       "    </tr>\n",
       "    <tr>\n",
       "      <th>cylindernumber_five</th>\n",
       "      <td>-0.0</td>\n",
       "    </tr>\n",
       "    <tr>\n",
       "      <th>cylindernumber_three</th>\n",
       "      <td>0.0</td>\n",
       "    </tr>\n",
       "    <tr>\n",
       "      <th>drivewheel_fwd</th>\n",
       "      <td>-0.0</td>\n",
       "    </tr>\n",
       "    <tr>\n",
       "      <th>doornumber_two</th>\n",
       "      <td>0.0</td>\n",
       "    </tr>\n",
       "    <tr>\n",
       "      <th>carlength</th>\n",
       "      <td>-0.0</td>\n",
       "    </tr>\n",
       "    <tr>\n",
       "      <th>compressionratio</th>\n",
       "      <td>0.0</td>\n",
       "    </tr>\n",
       "    <tr>\n",
       "      <th>horsepower</th>\n",
       "      <td>0.0</td>\n",
       "    </tr>\n",
       "    <tr>\n",
       "      <th>carbody_sedan</th>\n",
       "      <td>0.0</td>\n",
       "    </tr>\n",
       "    <tr>\n",
       "      <th>citympg</th>\n",
       "      <td>-0.0</td>\n",
       "    </tr>\n",
       "    <tr>\n",
       "      <th>highwaympg</th>\n",
       "      <td>-0.0</td>\n",
       "    </tr>\n",
       "    <tr>\n",
       "      <th>fuelsystem_spfi</th>\n",
       "      <td>-0.0</td>\n",
       "    </tr>\n",
       "    <tr>\n",
       "      <th>fueltype_gas</th>\n",
       "      <td>-0.0</td>\n",
       "    </tr>\n",
       "  </tbody>\n",
       "</table>\n",
       "</div>"
      ],
      "text/plain": [
       "                      Coefficient\n",
       "enginetype_ohcf              -0.0\n",
       "symboling                     0.0\n",
       "fuelsystem_4bbl               0.0\n",
       "fuelsystem_idi                0.0\n",
       "fuelsystem_mpfi               0.0\n",
       "cylindernumber_five          -0.0\n",
       "cylindernumber_three          0.0\n",
       "drivewheel_fwd               -0.0\n",
       "doornumber_two                0.0\n",
       "carlength                    -0.0\n",
       "compressionratio              0.0\n",
       "horsepower                    0.0\n",
       "carbody_sedan                 0.0\n",
       "citympg                      -0.0\n",
       "highwaympg                   -0.0\n",
       "fuelsystem_spfi              -0.0\n",
       "fueltype_gas                 -0.0"
      ]
     },
     "execution_count": 48,
     "metadata": {},
     "output_type": "execute_result"
    }
   ],
   "source": [
    "features_used=lasso_coef_df[lasso_coef_df[\"Coefficient\"]==0]\n",
    "features_used"
   ]
  },
  {
   "cell_type": "markdown",
   "id": "activated-spectacular",
   "metadata": {
    "papermill": {
     "duration": 0.088404,
     "end_time": "2021-05-30T15:13:43.946600",
     "exception": false,
     "start_time": "2021-05-30T15:13:43.858196",
     "status": "completed"
    },
    "tags": []
   },
   "source": []
  },
  {
   "cell_type": "markdown",
   "id": "enormous-hacker",
   "metadata": {
    "papermill": {
     "duration": 0.088185,
     "end_time": "2021-05-30T15:13:44.122392",
     "exception": false,
     "start_time": "2021-05-30T15:13:44.034207",
     "status": "completed"
    },
    "tags": []
   },
   "source": [
    "Lasso model have used 26 features out of 43 and have neglected 17 features"
   ]
  },
  {
   "cell_type": "code",
   "execution_count": 49,
   "id": "adverse-oasis",
   "metadata": {
    "execution": {
     "iopub.execute_input": "2021-05-30T15:13:44.302599Z",
     "iopub.status.busy": "2021-05-30T15:13:44.301748Z",
     "iopub.status.idle": "2021-05-30T15:13:44.305840Z",
     "shell.execute_reply": "2021-05-30T15:13:44.305248Z",
     "shell.execute_reply.started": "2021-05-30T15:03:22.546921Z"
    },
    "papermill": {
     "duration": 0.096044,
     "end_time": "2021-05-30T15:13:44.305990",
     "exception": false,
     "start_time": "2021-05-30T15:13:44.209946",
     "status": "completed"
    },
    "tags": []
   },
   "outputs": [
    {
     "name": "stdout",
     "output_type": "stream",
     "text": [
      "Total Features:43\n",
      "Features Neglected:17\n",
      "Features Used:26\n"
     ]
    }
   ],
   "source": [
    "print(\"Total Features:{}\".format(X.shape[1]))\n",
    "print(\"Features Neglected:{}\".format(features_used.shape[0]))\n",
    "print(\"Features Used:{}\".format(X.shape[1]-features_used.shape[0]))"
   ]
  },
  {
   "cell_type": "markdown",
   "id": "multiple-clarity",
   "metadata": {
    "papermill": {
     "duration": 0.087523,
     "end_time": "2021-05-30T15:13:44.481068",
     "exception": false,
     "start_time": "2021-05-30T15:13:44.393545",
     "status": "completed"
    },
    "tags": []
   },
   "source": [
    "Its is very clear from the plot that many of the features are neglected and its bar are being reduced to 0 magnitude, and hence lasso is moslty used for automatic feature selection."
   ]
  },
  {
   "cell_type": "code",
   "execution_count": 50,
   "id": "stock-welcome",
   "metadata": {
    "execution": {
     "iopub.execute_input": "2021-05-30T15:13:44.688811Z",
     "iopub.status.busy": "2021-05-30T15:13:44.684995Z",
     "iopub.status.idle": "2021-05-30T15:13:45.116807Z",
     "shell.execute_reply": "2021-05-30T15:13:45.117314Z",
     "shell.execute_reply.started": "2021-05-30T15:03:22.566753Z"
    },
    "papermill": {
     "duration": 0.550267,
     "end_time": "2021-05-30T15:13:45.117532",
     "exception": false,
     "start_time": "2021-05-30T15:13:44.567265",
     "status": "completed"
    },
    "tags": []
   },
   "outputs": [
    {
     "data": {
      "image/png": "[encoded data removed]",
      "text/plain": [
       "<Figure size 864x576 with 1 Axes>"
      ]
     },
     "metadata": {
      "needs_background": "light"
     },
     "output_type": "display_data"
    }
   ],
   "source": [
    "plot_coef(lasso_coef)"
   ]
  },
  {
   "cell_type": "markdown",
   "id": "political-korean",
   "metadata": {
    "papermill": {
     "duration": 0.087442,
     "end_time": "2021-05-30T15:13:45.293104",
     "exception": false,
     "start_time": "2021-05-30T15:13:45.205662",
     "status": "completed"
    },
    "tags": []
   },
   "source": [
    "**Comparison between the three Linear Models:**\n",
    "\n",
    "* From the plot below comparing the coefficient of independent features, its clear that **LinearRegression()** model have most coefficients nonzero and are of large magnitude and most of its values are out of y-lim, Which are represented by blue square blocks.\n",
    "\n",
    "* The **Ridge()** model however have the coefficents whose magnitude are smaller and are close to zero, which are represented with orange **'^'**.\n",
    "\n",
    "* Comming to **Lasso()** model most of its values are lying either on the horizotal line and few which are very close to horizontal line, owing to its smaller magnitude represented by green **'v'**"
   ]
  },
  {
   "cell_type": "code",
   "execution_count": 51,
   "id": "suitable-visiting",
   "metadata": {
    "execution": {
     "iopub.execute_input": "2021-05-30T15:13:45.524214Z",
     "iopub.status.busy": "2021-05-30T15:13:45.494311Z",
     "iopub.status.idle": "2021-05-30T15:13:46.001295Z",
     "shell.execute_reply": "2021-05-30T15:13:46.000470Z",
     "shell.execute_reply.started": "2021-05-30T15:12:07.991607Z"
    },
    "papermill": {
     "duration": 0.619953,
     "end_time": "2021-05-30T15:13:46.001516",
     "exception": false,
     "start_time": "2021-05-30T15:13:45.381563",
     "status": "completed"
    },
    "tags": []
   },
   "outputs": [
    {
     "data": {
      "image/png": "[encoded data removed]",
      "text/plain": [
       "<Figure size 864x504 with 1 Axes>"
      ]
     },
     "metadata": {
      "needs_background": "light"
     },
     "output_type": "display_data"
    }
   ],
   "source": [
    "#specify the figure & size\n",
    "fig=plt.figure(figsize=(12,7))\n",
    "\n",
    "#plot the coefficient of individual linear models\n",
    "plt.plot(linear_model.coef_,'s',label=\"Linear Regression\")\n",
    "plt.plot(ridge1_model.coef_,'^',label=\"Ridge\")\n",
    "plt.plot(lasso1_model.coef_,'v',label=\"Lasso\")\n",
    "\n",
    "#specify columns/features as the xticks\n",
    "plt.xticks(range(X.shape[1]), X.columns,rotation=90)\n",
    "\n",
    "#the length of horizontal line equals to the length of features\n",
    "plt.hlines(0,0,X.shape[1])\n",
    "\n",
    "#specify the x & y labels\n",
    "plt.xlabel(\"Features\")\n",
    "plt.ylabel(\"Coefficient magnitude\")\n",
    "\n",
    "plt.legend()\n",
    "plt.show()"
   ]
  },
  {
   "cell_type": "code",
   "execution_count": null,
   "id": "conservative-sensitivity",
   "metadata": {
    "papermill": {
     "duration": 0.090024,
     "end_time": "2021-05-30T15:13:46.183166",
     "exception": false,
     "start_time": "2021-05-30T15:13:46.093142",
     "status": "completed"
    },
    "tags": []
   },
   "outputs": [],
   "source": []
  }
 ],
 "metadata": {
  "kernelspec": {
   "display_name": "Python 3",
   "language": "python",
   "name": "python3"
  },
  "language_info": {
   "codemirror_mode": {
    "name": "ipython",
    "version": 3
   },
   "file_extension": ".py",
   "mimetype": "text/x-python",
   "name": "python",
   "nbconvert_exporter": "python",
   "pygments_lexer": "ipython3",
   "version": "3.7.10"
  },
  "papermill": {
   "default_parameters": {},
   "duration": 73.975854,
   "end_time": "2021-05-30T15:13:47.185418",
   "environment_variables": {},
   "exception": null,
   "input_path": "__notebook__.ipynb",
   "output_path": "__notebook__.ipynb",
   "parameters": {},
   "start_time": "2021-05-30T15:12:33.209564",
   "version": "2.3.3"
  }
 },
 "nbformat": 4,
 "nbformat_minor": 5
}
